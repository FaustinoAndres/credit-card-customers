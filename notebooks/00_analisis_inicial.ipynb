{
 "cells": [
  {
   "cell_type": "markdown",
   "source": "# EDA - Credit Card Customers Dataset\n",
   "metadata": {
    "cell_id": "00001-e6da3de6-753a-4ad9-bc5a-cdd904d54da1",
    "deepnote_cell_type": "markdown",
    "deepnote_cell_height": 81.5
   }
  },
  {
   "cell_type": "markdown",
   "source": "## Introducción\n\nEste trabajo consiste en realizar un análisis exploratorio de datos del dataset [credit card customers](https://www.kaggle.com/datasets/sakshigoyal7/credit-card-customers) de Kaggle. Este notebook contiene un análisis de datos para extraer inferencias útiles para el negocio para comprender la rotación de clientes antes de que cancelen sus tarjetas de crédito.\n\n## ¿Qué es un Churn y porqué es importante?\n\nPor Churn nos referimos a una rotación de los clientes, esto significa que el cliente deja de usar el producto o abandona la empresa. En este caso estamos hablando que la empresa es un banco. Tener una tasa de abandono creciente puede significar menores ingresos y márgenes de beneficio, pérdidas de clientes frente a otros competidores. Es también importante mencionar que mantener a un cliente dentro del banco es más fácil y barato que adquirir un nuevo cliente. Por otro lado el churn se puede deber a tener servicios o productos no funcionan, es por ello que es importante para el banco entender estás métricas y tomar acción para mejorarlo con insights basados en datos.\n\n## Objetivos\n\nUn gerente comercial de una cartera de tarjetas de crédito de consumo se enfrenta al problema de la deserción de clientes. Quieren analizar los datos para descubrir la razón detrás de esto y aprovechar lo mismo para predecir los clientes que probablemente abandonarán.\n\nEl objetivo de este análisis es comprender qué clientes corren el riesgo de abandonar y visualizarlo de manera clara. El alcance es hacer un análisis exploratorio de datos para comprender qué circunstancias afectan la tasa de abandono. Si es posible, exploraremos propuestas para mejorar la tasa de abandono o qué datos y preguntas serían relevantes para explorar más a fondo para reducir el índice de abandono.\n",
   "metadata": {
    "cell_id": "6b0e08cf-3ced-46ec-a334-84fe66c35df1",
    "tags": [],
    "deepnote_cell_type": "markdown",
    "deepnote_cell_height": 1515.9000244140625
   }
  },
  {
   "cell_type": "markdown",
   "source": "Al observar los datos, podemos comenzar a formular algunas preguntas para informar como una hipótesis sobre las características más impactantes que afectan la tasa de abandono. Exploremos los datos y proporcionemos un análisis perspicaz tratando de responder algunas preguntas relevantes:\n\n1. ¿Un índice de utilización de tarjetas de crédito más bajo indica una mayor tasa de rotación?\n1. ¿El índice de utilización de tarjetas de crédito es más bajo en los clientes que abandonan?\n1. ¿Cómo impacta el monto total de la transacción y la frecuencia en la tasa de abandono?\n1. ¿Cómo afecta el riesgo de churn la cantidad de meses en libro (el tiempo que el cliente ha tenido una relación con el banco)?\n1. ¿El límite de crédito afecta la tasa de abandono?\n1. ¿Cuál es la influencia de la categoría de ingreso en las personas con cierto estado civil para dejar el servicio?\n1. ¿Qué categoría de tarjeta de clientes necesita más atención de los proveedores de servicios?\n1. ¿Qué variables demográficas predicen con mayor impacto la rotación de un cliente?\n1. ¿Cuáles son las diferencias significativas entre el Cliente abandonado y el Cliente existente en términos de características demográficas en el conjunto de datos?\n\nUna hipótesis es que el comportamiento de los clientes antes de abandonar el servicio debería ser un buen indicador de su salida. Las variables que pueden mostrar eso podrían ser aquellas que muestran con qué frecuencia y cuánto están usando el servicio. Si los clientes reducen el uso de la tarjeta de crédito, esto podría indicar que obtuvieron otra tarjeta que están usando, de un competidor.",
   "metadata": {
    "cell_id": "ee6f394d-99f7-4f9a-99fc-5cbc6636e5dc",
    "tags": [],
    "deepnote_cell_type": "markdown",
    "deepnote_cell_height": 896.7000122070312
   }
  },
  {
   "cell_type": "code",
   "metadata": {
    "cell_id": "00002-766573b5-5627-4277-94dd-825179c6d978",
    "deepnote_to_be_reexecuted": false,
    "source_hash": "1466c8c7",
    "execution_start": 1647959723114,
    "execution_millis": 3707,
    "deepnote_cell_type": "code",
    "deepnote_cell_height": 188.5
   },
   "source": "import pandas as pd\nimport matplotlib.pyplot as plt\nimport numpy as np\nimport seaborn as sns\nimport pathlib\nimport os\n",
   "execution_count": 1,
   "outputs": []
  },
  {
   "cell_type": "code",
   "metadata": {
    "cell_id": "00003-4c720883-a421-4c76-8e1d-f791c9e7c120",
    "deepnote_to_be_reexecuted": false,
    "source_hash": "9357585d",
    "execution_start": 1647959726831,
    "execution_millis": 6,
    "deepnote_cell_type": "code",
    "deepnote_cell_height": 98.5
   },
   "source": "CURRENT_DIR = os.getcwd()\nDATA_DIR = os.path.join(CURRENT_DIR, os.pardir, 'data')",
   "execution_count": 2,
   "outputs": []
  },
  {
   "cell_type": "code",
   "metadata": {
    "cell_id": "00004-59001d61-b692-44c2-baf3-e8d49f116fb6",
    "deepnote_to_be_reexecuted": false,
    "source_hash": "b04d8ed3",
    "execution_start": 1647959726857,
    "execution_millis": 1,
    "deepnote_cell_type": "code",
    "deepnote_cell_height": 135.25,
    "deepnote_output_heights": [
     21
    ]
   },
   "source": "BANK_CHURNERS = os.path.join(DATA_DIR, 'BankChurners_raw.csv')\nBANK_CHURNERS",
   "execution_count": 3,
   "outputs": [
    {
     "output_type": "execute_result",
     "execution_count": 3,
     "data": {
      "text/plain": "'/work/credit-card-customers/notebooks/../data/BankChurners_raw.csv'"
     },
     "metadata": {}
    }
   ]
  },
  {
   "cell_type": "code",
   "metadata": {
    "cell_id": "00005-3fc37acf-9ffc-4a93-9fe4-74d8ba829ad7",
    "deepnote_to_be_reexecuted": false,
    "source_hash": "9b41f78e",
    "execution_start": 1647959726885,
    "execution_millis": 35,
    "deepnote_cell_type": "code",
    "deepnote_cell_height": 98.5
   },
   "source": "credit_data = pd.read_csv(BANK_CHURNERS)\ndf = credit_data.copy()",
   "execution_count": 4,
   "outputs": []
  },
  {
   "cell_type": "code",
   "metadata": {
    "cell_id": "00006-e5cd8f13-8644-42e3-9ad9-809d4572ddcc",
    "deepnote_to_be_reexecuted": false,
    "source_hash": "c085b6ba",
    "execution_start": 1647959726924,
    "execution_millis": 165,
    "deepnote_cell_type": "code",
    "deepnote_cell_height": 404.75
   },
   "source": "df.head()",
   "execution_count": 5,
   "outputs": [
    {
     "output_type": "execute_result",
     "execution_count": 5,
     "data": {
      "application/vnd.deepnote.dataframe.v3+json": {
       "column_count": 23,
       "row_count": 5,
       "columns": [
        {
         "name": "CLIENTNUM",
         "dtype": "int64",
         "stats": {
          "unique_count": 5,
          "nan_count": 0,
          "min": "709106358",
          "max": "818770008",
          "histogram": [
           {
            "bin_start": 709106358,
            "bin_end": 720072723,
            "count": 2
           },
           {
            "bin_start": 720072723,
            "bin_end": 731039088,
            "count": 0
           },
           {
            "bin_start": 731039088,
            "bin_end": 742005453,
            "count": 0
           },
           {
            "bin_start": 742005453,
            "bin_end": 752971818,
            "count": 0
           },
           {
            "bin_start": 752971818,
            "bin_end": 763938183,
            "count": 0
           },
           {
            "bin_start": 763938183,
            "bin_end": 774904548,
            "count": 2
           },
           {
            "bin_start": 774904548,
            "bin_end": 785870913,
            "count": 0
           },
           {
            "bin_start": 785870913,
            "bin_end": 796837278,
            "count": 0
           },
           {
            "bin_start": 796837278,
            "bin_end": 807803643,
            "count": 0
           },
           {
            "bin_start": 807803643,
            "bin_end": 818770008,
            "count": 1
           }
          ]
         }
        },
        {
         "name": "Attrition_Flag",
         "dtype": "object",
         "stats": {
          "unique_count": 1,
          "nan_count": 0,
          "categories": [
           {
            "name": "Existing Customer",
            "count": 5
           }
          ]
         }
        },
        {
         "name": "Customer_Age",
         "dtype": "int64",
         "stats": {
          "unique_count": 4,
          "nan_count": 0,
          "min": "40",
          "max": "51",
          "histogram": [
           {
            "bin_start": 40,
            "bin_end": 41.1,
            "count": 2
           },
           {
            "bin_start": 41.1,
            "bin_end": 42.2,
            "count": 0
           },
           {
            "bin_start": 42.2,
            "bin_end": 43.3,
            "count": 0
           },
           {
            "bin_start": 43.3,
            "bin_end": 44.4,
            "count": 0
           },
           {
            "bin_start": 44.4,
            "bin_end": 45.5,
            "count": 1
           },
           {
            "bin_start": 45.5,
            "bin_end": 46.6,
            "count": 0
           },
           {
            "bin_start": 46.6,
            "bin_end": 47.7,
            "count": 0
           },
           {
            "bin_start": 47.7,
            "bin_end": 48.8,
            "count": 0
           },
           {
            "bin_start": 48.8,
            "bin_end": 49.9,
            "count": 1
           },
           {
            "bin_start": 49.9,
            "bin_end": 51,
            "count": 1
           }
          ]
         }
        },
        {
         "name": "Gender",
         "dtype": "object",
         "stats": {
          "unique_count": 2,
          "nan_count": 0,
          "categories": [
           {
            "name": "M",
            "count": 3
           },
           {
            "name": "F",
            "count": 2
           }
          ]
         }
        },
        {
         "name": "Dependent_count",
         "dtype": "int64",
         "stats": {
          "unique_count": 3,
          "nan_count": 0,
          "min": "3",
          "max": "5",
          "histogram": [
           {
            "bin_start": 3,
            "bin_end": 3.2,
            "count": 3
           },
           {
            "bin_start": 3.2,
            "bin_end": 3.4,
            "count": 0
           },
           {
            "bin_start": 3.4,
            "bin_end": 3.6,
            "count": 0
           },
           {
            "bin_start": 3.6,
            "bin_end": 3.8,
            "count": 0
           },
           {
            "bin_start": 3.8,
            "bin_end": 4,
            "count": 0
           },
           {
            "bin_start": 4,
            "bin_end": 4.2,
            "count": 1
           },
           {
            "bin_start": 4.2,
            "bin_end": 4.4,
            "count": 0
           },
           {
            "bin_start": 4.4,
            "bin_end": 4.6,
            "count": 0
           },
           {
            "bin_start": 4.6,
            "bin_end": 4.8,
            "count": 0
           },
           {
            "bin_start": 4.8,
            "bin_end": 5,
            "count": 1
           }
          ]
         }
        },
        {
         "name": "Education_Level",
         "dtype": "object",
         "stats": {
          "unique_count": 3,
          "nan_count": 0,
          "categories": [
           {
            "name": "High School",
            "count": 2
           },
           {
            "name": "Graduate",
            "count": 2
           },
           {
            "name": "Uneducated",
            "count": 1
           }
          ]
         }
        },
        {
         "name": "Marital_Status",
         "dtype": "object",
         "stats": {
          "unique_count": 3,
          "nan_count": 0,
          "categories": [
           {
            "name": "Married",
            "count": 3
           },
           {
            "name": "Single",
            "count": 1
           },
           {
            "name": "Unknown",
            "count": 1
           }
          ]
         }
        },
        {
         "name": "Income_Category",
         "dtype": "object",
         "stats": {
          "unique_count": 3,
          "nan_count": 0,
          "categories": [
           {
            "name": "$60K - $80K",
            "count": 2
           },
           {
            "name": "Less than $40K",
            "count": 2
           },
           {
            "name": "$80K - $120K",
            "count": 1
           }
          ]
         }
        },
        {
         "name": "Card_Category",
         "dtype": "object",
         "stats": {
          "unique_count": 1,
          "nan_count": 0,
          "categories": [
           {
            "name": "Blue",
            "count": 5
           }
          ]
         }
        },
        {
         "name": "Months_on_book",
         "dtype": "int64",
         "stats": {
          "unique_count": 5,
          "nan_count": 0,
          "min": "21",
          "max": "44",
          "histogram": [
           {
            "bin_start": 21,
            "bin_end": 23.3,
            "count": 1
           },
           {
            "bin_start": 23.3,
            "bin_end": 25.6,
            "count": 0
           },
           {
            "bin_start": 25.6,
            "bin_end": 27.9,
            "count": 0
           },
           {
            "bin_start": 27.9,
            "bin_end": 30.2,
            "count": 0
           },
           {
            "bin_start": 30.2,
            "bin_end": 32.5,
            "count": 0
           },
           {
            "bin_start": 32.5,
            "bin_end": 34.8,
            "count": 1
           },
           {
            "bin_start": 34.8,
            "bin_end": 37.099999999999994,
            "count": 1
           },
           {
            "bin_start": 37.099999999999994,
            "bin_end": 39.4,
            "count": 1
           },
           {
            "bin_start": 39.4,
            "bin_end": 41.7,
            "count": 0
           },
           {
            "bin_start": 41.7,
            "bin_end": 44,
            "count": 1
           }
          ]
         }
        },
        {
         "name": "Total_Relationship_Count",
         "dtype": "int64",
         "stats": {
          "unique_count": 4,
          "nan_count": 0,
          "min": "3",
          "max": "6",
          "histogram": [
           {
            "bin_start": 3,
            "bin_end": 3.3,
            "count": 1
           },
           {
            "bin_start": 3.3,
            "bin_end": 3.6,
            "count": 0
           },
           {
            "bin_start": 3.6,
            "bin_end": 3.9,
            "count": 0
           },
           {
            "bin_start": 3.9,
            "bin_end": 4.2,
            "count": 1
           },
           {
            "bin_start": 4.2,
            "bin_end": 4.5,
            "count": 0
           },
           {
            "bin_start": 4.5,
            "bin_end": 4.8,
            "count": 0
           },
           {
            "bin_start": 4.8,
            "bin_end": 5.1,
            "count": 2
           },
           {
            "bin_start": 5.1,
            "bin_end": 5.4,
            "count": 0
           },
           {
            "bin_start": 5.4,
            "bin_end": 5.699999999999999,
            "count": 0
           },
           {
            "bin_start": 5.699999999999999,
            "bin_end": 6,
            "count": 1
           }
          ]
         }
        },
        {
         "name": "Months_Inactive_12_mon",
         "dtype": "int64",
         "stats": {
          "unique_count": 2,
          "nan_count": 0,
          "min": "1",
          "max": "4",
          "histogram": [
           {
            "bin_start": 1,
            "bin_end": 1.3,
            "count": 4
           },
           {
            "bin_start": 1.3,
            "bin_end": 1.6,
            "count": 0
           },
           {
            "bin_start": 1.6,
            "bin_end": 1.9,
            "count": 0
           },
           {
            "bin_start": 1.9,
            "bin_end": 2.2,
            "count": 0
           },
           {
            "bin_start": 2.2,
            "bin_end": 2.5,
            "count": 0
           },
           {
            "bin_start": 2.5,
            "bin_end": 2.8,
            "count": 0
           },
           {
            "bin_start": 2.8,
            "bin_end": 3.1,
            "count": 0
           },
           {
            "bin_start": 3.1,
            "bin_end": 3.4,
            "count": 0
           },
           {
            "bin_start": 3.4,
            "bin_end": 3.6999999999999997,
            "count": 0
           },
           {
            "bin_start": 3.6999999999999997,
            "bin_end": 4,
            "count": 1
           }
          ]
         }
        },
        {
         "name": "Contacts_Count_12_mon",
         "dtype": "int64",
         "stats": {
          "unique_count": 4,
          "nan_count": 0,
          "min": "0",
          "max": "3",
          "histogram": [
           {
            "bin_start": 0,
            "bin_end": 0.3,
            "count": 2
           },
           {
            "bin_start": 0.3,
            "bin_end": 0.6,
            "count": 0
           },
           {
            "bin_start": 0.6,
            "bin_end": 0.8999999999999999,
            "count": 0
           },
           {
            "bin_start": 0.8999999999999999,
            "bin_end": 1.2,
            "count": 1
           },
           {
            "bin_start": 1.2,
            "bin_end": 1.5,
            "count": 0
           },
           {
            "bin_start": 1.5,
            "bin_end": 1.7999999999999998,
            "count": 0
           },
           {
            "bin_start": 1.7999999999999998,
            "bin_end": 2.1,
            "count": 1
           },
           {
            "bin_start": 2.1,
            "bin_end": 2.4,
            "count": 0
           },
           {
            "bin_start": 2.4,
            "bin_end": 2.6999999999999997,
            "count": 0
           },
           {
            "bin_start": 2.6999999999999997,
            "bin_end": 3,
            "count": 1
           }
          ]
         }
        },
        {
         "name": "Credit_Limit",
         "dtype": "float64",
         "stats": {
          "unique_count": 5,
          "nan_count": 0,
          "min": "3313.0",
          "max": "12691.0",
          "histogram": [
           {
            "bin_start": 3313,
            "bin_end": 4250.8,
            "count": 2
           },
           {
            "bin_start": 4250.8,
            "bin_end": 5188.6,
            "count": 1
           },
           {
            "bin_start": 5188.6,
            "bin_end": 6126.4,
            "count": 0
           },
           {
            "bin_start": 6126.4,
            "bin_end": 7064.2,
            "count": 0
           },
           {
            "bin_start": 7064.2,
            "bin_end": 8002,
            "count": 0
           },
           {
            "bin_start": 8002,
            "bin_end": 8939.8,
            "count": 1
           },
           {
            "bin_start": 8939.8,
            "bin_end": 9877.599999999999,
            "count": 0
           },
           {
            "bin_start": 9877.599999999999,
            "bin_end": 10815.4,
            "count": 0
           },
           {
            "bin_start": 10815.4,
            "bin_end": 11753.199999999999,
            "count": 0
           },
           {
            "bin_start": 11753.199999999999,
            "bin_end": 12691,
            "count": 1
           }
          ]
         }
        },
        {
         "name": "Total_Revolving_Bal",
         "dtype": "int64",
         "stats": {
          "unique_count": 4,
          "nan_count": 0,
          "min": "0",
          "max": "2517",
          "histogram": [
           {
            "bin_start": 0,
            "bin_end": 251.7,
            "count": 2
           },
           {
            "bin_start": 251.7,
            "bin_end": 503.4,
            "count": 0
           },
           {
            "bin_start": 503.4,
            "bin_end": 755.0999999999999,
            "count": 0
           },
           {
            "bin_start": 755.0999999999999,
            "bin_end": 1006.8,
            "count": 2
           },
           {
            "bin_start": 1006.8,
            "bin_end": 1258.5,
            "count": 0
           },
           {
            "bin_start": 1258.5,
            "bin_end": 1510.1999999999998,
            "count": 0
           },
           {
            "bin_start": 1510.1999999999998,
            "bin_end": 1761.8999999999999,
            "count": 0
           },
           {
            "bin_start": 1761.8999999999999,
            "bin_end": 2013.6,
            "count": 0
           },
           {
            "bin_start": 2013.6,
            "bin_end": 2265.2999999999997,
            "count": 0
           },
           {
            "bin_start": 2265.2999999999997,
            "bin_end": 2517,
            "count": 1
           }
          ]
         }
        },
        {
         "name": "Avg_Open_To_Buy",
         "dtype": "float64",
         "stats": {
          "unique_count": 5,
          "nan_count": 0,
          "min": "796.0",
          "max": "11914.0",
          "histogram": [
           {
            "bin_start": 796,
            "bin_end": 1907.8,
            "count": 1
           },
           {
            "bin_start": 1907.8,
            "bin_end": 3019.6,
            "count": 0
           },
           {
            "bin_start": 3019.6,
            "bin_end": 4131.4,
            "count": 1
           },
           {
            "bin_start": 4131.4,
            "bin_end": 5243.2,
            "count": 1
           },
           {
            "bin_start": 5243.2,
            "bin_end": 6355,
            "count": 0
           },
           {
            "bin_start": 6355,
            "bin_end": 7466.799999999999,
            "count": 1
           },
           {
            "bin_start": 7466.799999999999,
            "bin_end": 8578.599999999999,
            "count": 0
           },
           {
            "bin_start": 8578.599999999999,
            "bin_end": 9690.4,
            "count": 0
           },
           {
            "bin_start": 9690.4,
            "bin_end": 10802.199999999999,
            "count": 0
           },
           {
            "bin_start": 10802.199999999999,
            "bin_end": 11914,
            "count": 1
           }
          ]
         }
        },
        {
         "name": "Total_Amt_Chng_Q4_Q1",
         "dtype": "float64",
         "stats": {
          "unique_count": 5,
          "nan_count": 0,
          "min": "1.335",
          "max": "2.594",
          "histogram": [
           {
            "bin_start": 1.335,
            "bin_end": 1.4608999999999999,
            "count": 2
           },
           {
            "bin_start": 1.4608999999999999,
            "bin_end": 1.5868,
            "count": 1
           },
           {
            "bin_start": 1.5868,
            "bin_end": 1.7127,
            "count": 0
           },
           {
            "bin_start": 1.7127,
            "bin_end": 1.8386,
            "count": 0
           },
           {
            "bin_start": 1.8386,
            "bin_end": 1.9645,
            "count": 0
           },
           {
            "bin_start": 1.9645,
            "bin_end": 2.0904,
            "count": 0
           },
           {
            "bin_start": 2.0904,
            "bin_end": 2.2163,
            "count": 1
           },
           {
            "bin_start": 2.2163,
            "bin_end": 2.3422,
            "count": 0
           },
           {
            "bin_start": 2.3422,
            "bin_end": 2.4680999999999997,
            "count": 0
           },
           {
            "bin_start": 2.4680999999999997,
            "bin_end": 2.594,
            "count": 1
           }
          ]
         }
        },
        {
         "name": "Total_Trans_Amt",
         "dtype": "int64",
         "stats": {
          "unique_count": 5,
          "nan_count": 0,
          "min": "816",
          "max": "1887",
          "histogram": [
           {
            "bin_start": 816,
            "bin_end": 923.1,
            "count": 1
           },
           {
            "bin_start": 923.1,
            "bin_end": 1030.2,
            "count": 0
           },
           {
            "bin_start": 1030.2,
            "bin_end": 1137.3,
            "count": 0
           },
           {
            "bin_start": 1137.3,
            "bin_end": 1244.4,
            "count": 2
           },
           {
            "bin_start": 1244.4,
            "bin_end": 1351.5,
            "count": 1
           },
           {
            "bin_start": 1351.5,
            "bin_end": 1458.6,
            "count": 0
           },
           {
            "bin_start": 1458.6,
            "bin_end": 1565.6999999999998,
            "count": 0
           },
           {
            "bin_start": 1565.6999999999998,
            "bin_end": 1672.8,
            "count": 0
           },
           {
            "bin_start": 1672.8,
            "bin_end": 1779.9,
            "count": 0
           },
           {
            "bin_start": 1779.9,
            "bin_end": 1887,
            "count": 1
           }
          ]
         }
        },
        {
         "name": "Total_Trans_Ct",
         "dtype": "int64",
         "stats": {
          "unique_count": 4,
          "nan_count": 0,
          "min": "20",
          "max": "42",
          "histogram": [
           {
            "bin_start": 20,
            "bin_end": 22.2,
            "count": 2
           },
           {
            "bin_start": 22.2,
            "bin_end": 24.4,
            "count": 0
           },
           {
            "bin_start": 24.4,
            "bin_end": 26.6,
            "count": 0
           },
           {
            "bin_start": 26.6,
            "bin_end": 28.8,
            "count": 1
           },
           {
            "bin_start": 28.8,
            "bin_end": 31,
            "count": 0
           },
           {
            "bin_start": 31,
            "bin_end": 33.2,
            "count": 1
           },
           {
            "bin_start": 33.2,
            "bin_end": 35.400000000000006,
            "count": 0
           },
           {
            "bin_start": 35.400000000000006,
            "bin_end": 37.6,
            "count": 0
           },
           {
            "bin_start": 37.6,
            "bin_end": 39.8,
            "count": 0
           },
           {
            "bin_start": 39.8,
            "bin_end": 42,
            "count": 1
           }
          ]
         }
        },
        {
         "name": "Total_Ct_Chng_Q4_Q1",
         "dtype": "float64",
         "stats": {
          "unique_count": 4,
          "nan_count": 0,
          "min": "1.625",
          "max": "3.714",
          "histogram": [
           {
            "bin_start": 1.625,
            "bin_end": 1.8339,
            "count": 1
           },
           {
            "bin_start": 1.8339,
            "bin_end": 2.0428,
            "count": 0
           },
           {
            "bin_start": 2.0428,
            "bin_end": 2.2517,
            "count": 0
           },
           {
            "bin_start": 2.2517,
            "bin_end": 2.4606,
            "count": 2
           },
           {
            "bin_start": 2.4606,
            "bin_end": 2.6695,
            "count": 1
           },
           {
            "bin_start": 2.6695,
            "bin_end": 2.8784,
            "count": 0
           },
           {
            "bin_start": 2.8784,
            "bin_end": 3.0873,
            "count": 0
           },
           {
            "bin_start": 3.0873,
            "bin_end": 3.2962,
            "count": 0
           },
           {
            "bin_start": 3.2962,
            "bin_end": 3.5051,
            "count": 0
           },
           {
            "bin_start": 3.5051,
            "bin_end": 3.714,
            "count": 1
           }
          ]
         }
        },
        {
         "name": "Avg_Utilization_Ratio",
         "dtype": "float64",
         "stats": {
          "unique_count": 4,
          "nan_count": 0,
          "min": "0.0",
          "max": "0.76",
          "histogram": [
           {
            "bin_start": 0,
            "bin_end": 0.076,
            "count": 3
           },
           {
            "bin_start": 0.076,
            "bin_end": 0.152,
            "count": 1
           },
           {
            "bin_start": 0.152,
            "bin_end": 0.22799999999999998,
            "count": 0
           },
           {
            "bin_start": 0.22799999999999998,
            "bin_end": 0.304,
            "count": 0
           },
           {
            "bin_start": 0.304,
            "bin_end": 0.38,
            "count": 0
           },
           {
            "bin_start": 0.38,
            "bin_end": 0.45599999999999996,
            "count": 0
           },
           {
            "bin_start": 0.45599999999999996,
            "bin_end": 0.532,
            "count": 0
           },
           {
            "bin_start": 0.532,
            "bin_end": 0.608,
            "count": 0
           },
           {
            "bin_start": 0.608,
            "bin_end": 0.6839999999999999,
            "count": 0
           },
           {
            "bin_start": 0.6839999999999999,
            "bin_end": 0.76,
            "count": 1
           }
          ]
         }
        },
        {
         "name": "Naive_Bayes_Classifier_Attrition_Flag_Card_Category_Contacts_Count_12_mon_Dependent_count_Education_Level_Months_Inactive_12_mon_1",
         "dtype": "float64",
         "stats": {
          "unique_count": 5,
          "nan_count": 0,
          "min": "2.1081e-05",
          "max": "0.00013366",
          "histogram": [
           {
            "bin_start": 0.000021081,
            "bin_end": 0.000032338899999999996,
            "count": 2
           },
           {
            "bin_start": 0.000032338899999999996,
            "bin_end": 0.000043596799999999996,
            "count": 0
           },
           {
            "bin_start": 0.000043596799999999996,
            "bin_end": 0.000054854699999999995,
            "count": 0
           },
           {
            "bin_start": 0.000054854699999999995,
            "bin_end": 0.0000661126,
            "count": 1
           },
           {
            "bin_start": 0.0000661126,
            "bin_end": 0.0000773705,
            "count": 0
           },
           {
            "bin_start": 0.0000773705,
            "bin_end": 0.0000886284,
            "count": 0
           },
           {
            "bin_start": 0.0000886284,
            "bin_end": 0.00009988629999999999,
            "count": 1
           },
           {
            "bin_start": 0.00009988629999999999,
            "bin_end": 0.00011114419999999999,
            "count": 0
           },
           {
            "bin_start": 0.00011114419999999999,
            "bin_end": 0.0001224021,
            "count": 0
           },
           {
            "bin_start": 0.0001224021,
            "bin_end": 0.00013366,
            "count": 1
           }
          ]
         }
        },
        {
         "name": "Naive_Bayes_Classifier_Attrition_Flag_Card_Category_Contacts_Count_12_mon_Dependent_count_Education_Level_Months_Inactive_12_mon_2",
         "dtype": "float64",
         "stats": {
          "unique_count": 4,
          "nan_count": 0,
          "min": "0.99987",
          "max": "0.99998",
          "histogram": [
           {
            "bin_start": 0.99987,
            "bin_end": 0.999881,
            "count": 1
           },
           {
            "bin_start": 0.999881,
            "bin_end": 0.999892,
            "count": 0
           },
           {
            "bin_start": 0.999892,
            "bin_end": 0.999903,
            "count": 0
           },
           {
            "bin_start": 0.999903,
            "bin_end": 0.999914,
            "count": 1
           },
           {
            "bin_start": 0.999914,
            "bin_end": 0.999925,
            "count": 0
           },
           {
            "bin_start": 0.999925,
            "bin_end": 0.999936,
            "count": 0
           },
           {
            "bin_start": 0.999936,
            "bin_end": 0.999947,
            "count": 1
           },
           {
            "bin_start": 0.999947,
            "bin_end": 0.999958,
            "count": 0
           },
           {
            "bin_start": 0.999958,
            "bin_end": 0.999969,
            "count": 0
           },
           {
            "bin_start": 0.999969,
            "bin_end": 0.99998,
            "count": 2
           }
          ]
         }
        },
        {
         "name": "_deepnote_index_column",
         "dtype": "int64"
        }
       ],
       "rows": [
        {
         "CLIENTNUM": 768805383,
         "Attrition_Flag": "Existing Customer",
         "Customer_Age": 45,
         "Gender": "M",
         "Dependent_count": 3,
         "Education_Level": "High School",
         "Marital_Status": "Married",
         "Income_Category": "$60K - $80K",
         "Card_Category": "Blue",
         "Months_on_book": 39,
         "Total_Relationship_Count": 5,
         "Months_Inactive_12_mon": 1,
         "Contacts_Count_12_mon": 3,
         "Credit_Limit": 12691,
         "Total_Revolving_Bal": 777,
         "Avg_Open_To_Buy": 11914,
         "Total_Amt_Chng_Q4_Q1": 1.335,
         "Total_Trans_Amt": 1144,
         "Total_Trans_Ct": 42,
         "Total_Ct_Chng_Q4_Q1": 1.625,
         "Avg_Utilization_Ratio": 0.061,
         "Naive_Bayes_Classifier_Attrition_Flag_Card_Category_Contacts_Count_12_mon_Dependent_count_Education_Level_Months_Inactive_12_mon_1": 0.000093448,
         "Naive_Bayes_Classifier_Attrition_Flag_Card_Category_Contacts_Count_12_mon_Dependent_count_Education_Level_Months_Inactive_12_mon_2": 0.99991,
         "_deepnote_index_column": 0
        },
        {
         "CLIENTNUM": 818770008,
         "Attrition_Flag": "Existing Customer",
         "Customer_Age": 49,
         "Gender": "F",
         "Dependent_count": 5,
         "Education_Level": "Graduate",
         "Marital_Status": "Single",
         "Income_Category": "Less than $40K",
         "Card_Category": "Blue",
         "Months_on_book": 44,
         "Total_Relationship_Count": 6,
         "Months_Inactive_12_mon": 1,
         "Contacts_Count_12_mon": 2,
         "Credit_Limit": 8256,
         "Total_Revolving_Bal": 864,
         "Avg_Open_To_Buy": 7392,
         "Total_Amt_Chng_Q4_Q1": 1.541,
         "Total_Trans_Amt": 1291,
         "Total_Trans_Ct": 33,
         "Total_Ct_Chng_Q4_Q1": 3.714,
         "Avg_Utilization_Ratio": 0.105,
         "Naive_Bayes_Classifier_Attrition_Flag_Card_Category_Contacts_Count_12_mon_Dependent_count_Education_Level_Months_Inactive_12_mon_1": 0.000056861,
         "Naive_Bayes_Classifier_Attrition_Flag_Card_Category_Contacts_Count_12_mon_Dependent_count_Education_Level_Months_Inactive_12_mon_2": 0.99994,
         "_deepnote_index_column": 1
        },
        {
         "CLIENTNUM": 713982108,
         "Attrition_Flag": "Existing Customer",
         "Customer_Age": 51,
         "Gender": "M",
         "Dependent_count": 3,
         "Education_Level": "Graduate",
         "Marital_Status": "Married",
         "Income_Category": "$80K - $120K",
         "Card_Category": "Blue",
         "Months_on_book": 36,
         "Total_Relationship_Count": 4,
         "Months_Inactive_12_mon": 1,
         "Contacts_Count_12_mon": 0,
         "Credit_Limit": 3418,
         "Total_Revolving_Bal": 0,
         "Avg_Open_To_Buy": 3418,
         "Total_Amt_Chng_Q4_Q1": 2.594,
         "Total_Trans_Amt": 1887,
         "Total_Trans_Ct": 20,
         "Total_Ct_Chng_Q4_Q1": 2.333,
         "Avg_Utilization_Ratio": 0,
         "Naive_Bayes_Classifier_Attrition_Flag_Card_Category_Contacts_Count_12_mon_Dependent_count_Education_Level_Months_Inactive_12_mon_1": 0.000021081,
         "Naive_Bayes_Classifier_Attrition_Flag_Card_Category_Contacts_Count_12_mon_Dependent_count_Education_Level_Months_Inactive_12_mon_2": 0.99998,
         "_deepnote_index_column": 2
        },
        {
         "CLIENTNUM": 769911858,
         "Attrition_Flag": "Existing Customer",
         "Customer_Age": 40,
         "Gender": "F",
         "Dependent_count": 4,
         "Education_Level": "High School",
         "Marital_Status": "Unknown",
         "Income_Category": "Less than $40K",
         "Card_Category": "Blue",
         "Months_on_book": 34,
         "Total_Relationship_Count": 3,
         "Months_Inactive_12_mon": 4,
         "Contacts_Count_12_mon": 1,
         "Credit_Limit": 3313,
         "Total_Revolving_Bal": 2517,
         "Avg_Open_To_Buy": 796,
         "Total_Amt_Chng_Q4_Q1": 1.405,
         "Total_Trans_Amt": 1171,
         "Total_Trans_Ct": 20,
         "Total_Ct_Chng_Q4_Q1": 2.333,
         "Avg_Utilization_Ratio": 0.76,
         "Naive_Bayes_Classifier_Attrition_Flag_Card_Category_Contacts_Count_12_mon_Dependent_count_Education_Level_Months_Inactive_12_mon_1": 0.00013366,
         "Naive_Bayes_Classifier_Attrition_Flag_Card_Category_Contacts_Count_12_mon_Dependent_count_Education_Level_Months_Inactive_12_mon_2": 0.99987,
         "_deepnote_index_column": 3
        },
        {
         "CLIENTNUM": 709106358,
         "Attrition_Flag": "Existing Customer",
         "Customer_Age": 40,
         "Gender": "M",
         "Dependent_count": 3,
         "Education_Level": "Uneducated",
         "Marital_Status": "Married",
         "Income_Category": "$60K - $80K",
         "Card_Category": "Blue",
         "Months_on_book": 21,
         "Total_Relationship_Count": 5,
         "Months_Inactive_12_mon": 1,
         "Contacts_Count_12_mon": 0,
         "Credit_Limit": 4716,
         "Total_Revolving_Bal": 0,
         "Avg_Open_To_Buy": 4716,
         "Total_Amt_Chng_Q4_Q1": 2.175,
         "Total_Trans_Amt": 816,
         "Total_Trans_Ct": 28,
         "Total_Ct_Chng_Q4_Q1": 2.5,
         "Avg_Utilization_Ratio": 0,
         "Naive_Bayes_Classifier_Attrition_Flag_Card_Category_Contacts_Count_12_mon_Dependent_count_Education_Level_Months_Inactive_12_mon_1": 0.000021676,
         "Naive_Bayes_Classifier_Attrition_Flag_Card_Category_Contacts_Count_12_mon_Dependent_count_Education_Level_Months_Inactive_12_mon_2": 0.99998,
         "_deepnote_index_column": 4
        }
       ]
      },
      "text/plain": "   CLIENTNUM     Attrition_Flag  Customer_Age Gender  Dependent_count  \\\n0  768805383  Existing Customer            45      M                3   \n1  818770008  Existing Customer            49      F                5   \n2  713982108  Existing Customer            51      M                3   \n3  769911858  Existing Customer            40      F                4   \n4  709106358  Existing Customer            40      M                3   \n\n  Education_Level Marital_Status Income_Category Card_Category  \\\n0     High School        Married     $60K - $80K          Blue   \n1        Graduate         Single  Less than $40K          Blue   \n2        Graduate        Married    $80K - $120K          Blue   \n3     High School        Unknown  Less than $40K          Blue   \n4      Uneducated        Married     $60K - $80K          Blue   \n\n   Months_on_book  ...  Credit_Limit  Total_Revolving_Bal  Avg_Open_To_Buy  \\\n0              39  ...       12691.0                  777          11914.0   \n1              44  ...        8256.0                  864           7392.0   \n2              36  ...        3418.0                    0           3418.0   \n3              34  ...        3313.0                 2517            796.0   \n4              21  ...        4716.0                    0           4716.0   \n\n   Total_Amt_Chng_Q4_Q1  Total_Trans_Amt  Total_Trans_Ct  Total_Ct_Chng_Q4_Q1  \\\n0                 1.335             1144              42                1.625   \n1                 1.541             1291              33                3.714   \n2                 2.594             1887              20                2.333   \n3                 1.405             1171              20                2.333   \n4                 2.175              816              28                2.500   \n\n   Avg_Utilization_Ratio  \\\n0                  0.061   \n1                  0.105   \n2                  0.000   \n3                  0.760   \n4                  0.000   \n\n   Naive_Bayes_Classifier_Attrition_Flag_Card_Category_Contacts_Count_12_mon_Dependent_count_Education_Level_Months_Inactive_12_mon_1  \\\n0                                           0.000093                                                                                    \n1                                           0.000057                                                                                    \n2                                           0.000021                                                                                    \n3                                           0.000134                                                                                    \n4                                           0.000022                                                                                    \n\n   Naive_Bayes_Classifier_Attrition_Flag_Card_Category_Contacts_Count_12_mon_Dependent_count_Education_Level_Months_Inactive_12_mon_2  \n0                                            0.99991                                                                                   \n1                                            0.99994                                                                                   \n2                                            0.99998                                                                                   \n3                                            0.99987                                                                                   \n4                                            0.99998                                                                                   \n\n[5 rows x 23 columns]",
      "text/html": "<div>\n<style scoped>\n    .dataframe tbody tr th:only-of-type {\n        vertical-align: middle;\n    }\n\n    .dataframe tbody tr th {\n        vertical-align: top;\n    }\n\n    .dataframe thead th {\n        text-align: right;\n    }\n</style>\n<table border=\"1\" class=\"dataframe\">\n  <thead>\n    <tr style=\"text-align: right;\">\n      <th></th>\n      <th>CLIENTNUM</th>\n      <th>Attrition_Flag</th>\n      <th>Customer_Age</th>\n      <th>Gender</th>\n      <th>Dependent_count</th>\n      <th>Education_Level</th>\n      <th>Marital_Status</th>\n      <th>Income_Category</th>\n      <th>Card_Category</th>\n      <th>Months_on_book</th>\n      <th>...</th>\n      <th>Credit_Limit</th>\n      <th>Total_Revolving_Bal</th>\n      <th>Avg_Open_To_Buy</th>\n      <th>Total_Amt_Chng_Q4_Q1</th>\n      <th>Total_Trans_Amt</th>\n      <th>Total_Trans_Ct</th>\n      <th>Total_Ct_Chng_Q4_Q1</th>\n      <th>Avg_Utilization_Ratio</th>\n      <th>Naive_Bayes_Classifier_Attrition_Flag_Card_Category_Contacts_Count_12_mon_Dependent_count_Education_Level_Months_Inactive_12_mon_1</th>\n      <th>Naive_Bayes_Classifier_Attrition_Flag_Card_Category_Contacts_Count_12_mon_Dependent_count_Education_Level_Months_Inactive_12_mon_2</th>\n    </tr>\n  </thead>\n  <tbody>\n    <tr>\n      <th>0</th>\n      <td>768805383</td>\n      <td>Existing Customer</td>\n      <td>45</td>\n      <td>M</td>\n      <td>3</td>\n      <td>High School</td>\n      <td>Married</td>\n      <td>$60K - $80K</td>\n      <td>Blue</td>\n      <td>39</td>\n      <td>...</td>\n      <td>12691.0</td>\n      <td>777</td>\n      <td>11914.0</td>\n      <td>1.335</td>\n      <td>1144</td>\n      <td>42</td>\n      <td>1.625</td>\n      <td>0.061</td>\n      <td>0.000093</td>\n      <td>0.99991</td>\n    </tr>\n    <tr>\n      <th>1</th>\n      <td>818770008</td>\n      <td>Existing Customer</td>\n      <td>49</td>\n      <td>F</td>\n      <td>5</td>\n      <td>Graduate</td>\n      <td>Single</td>\n      <td>Less than $40K</td>\n      <td>Blue</td>\n      <td>44</td>\n      <td>...</td>\n      <td>8256.0</td>\n      <td>864</td>\n      <td>7392.0</td>\n      <td>1.541</td>\n      <td>1291</td>\n      <td>33</td>\n      <td>3.714</td>\n      <td>0.105</td>\n      <td>0.000057</td>\n      <td>0.99994</td>\n    </tr>\n    <tr>\n      <th>2</th>\n      <td>713982108</td>\n      <td>Existing Customer</td>\n      <td>51</td>\n      <td>M</td>\n      <td>3</td>\n      <td>Graduate</td>\n      <td>Married</td>\n      <td>$80K - $120K</td>\n      <td>Blue</td>\n      <td>36</td>\n      <td>...</td>\n      <td>3418.0</td>\n      <td>0</td>\n      <td>3418.0</td>\n      <td>2.594</td>\n      <td>1887</td>\n      <td>20</td>\n      <td>2.333</td>\n      <td>0.000</td>\n      <td>0.000021</td>\n      <td>0.99998</td>\n    </tr>\n    <tr>\n      <th>3</th>\n      <td>769911858</td>\n      <td>Existing Customer</td>\n      <td>40</td>\n      <td>F</td>\n      <td>4</td>\n      <td>High School</td>\n      <td>Unknown</td>\n      <td>Less than $40K</td>\n      <td>Blue</td>\n      <td>34</td>\n      <td>...</td>\n      <td>3313.0</td>\n      <td>2517</td>\n      <td>796.0</td>\n      <td>1.405</td>\n      <td>1171</td>\n      <td>20</td>\n      <td>2.333</td>\n      <td>0.760</td>\n      <td>0.000134</td>\n      <td>0.99987</td>\n    </tr>\n    <tr>\n      <th>4</th>\n      <td>709106358</td>\n      <td>Existing Customer</td>\n      <td>40</td>\n      <td>M</td>\n      <td>3</td>\n      <td>Uneducated</td>\n      <td>Married</td>\n      <td>$60K - $80K</td>\n      <td>Blue</td>\n      <td>21</td>\n      <td>...</td>\n      <td>4716.0</td>\n      <td>0</td>\n      <td>4716.0</td>\n      <td>2.175</td>\n      <td>816</td>\n      <td>28</td>\n      <td>2.500</td>\n      <td>0.000</td>\n      <td>0.000022</td>\n      <td>0.99998</td>\n    </tr>\n  </tbody>\n</table>\n<p>5 rows × 23 columns</p>\n</div>"
     },
     "metadata": {}
    }
   ]
  },
  {
   "cell_type": "code",
   "metadata": {
    "cell_id": "00007-fd9cb972-e7c9-45a8-81b0-493e4af814f5",
    "deepnote_to_be_reexecuted": false,
    "source_hash": "e725dca6",
    "execution_start": 1647959727091,
    "execution_millis": 21,
    "deepnote_cell_type": "code",
    "deepnote_cell_height": 116.5
   },
   "source": "del df['Naive_Bayes_Classifier_Attrition_Flag_Card_Category_Contacts_Count_12_mon_Dependent_count_Education_Level_Months_Inactive_12_mon_1']\n\ndel df['Naive_Bayes_Classifier_Attrition_Flag_Card_Category_Contacts_Count_12_mon_Dependent_count_Education_Level_Months_Inactive_12_mon_2']",
   "execution_count": 6,
   "outputs": []
  },
  {
   "cell_type": "code",
   "metadata": {
    "cell_id": "00008-992e8959-2551-4309-96f8-ac3142b98c60",
    "deepnote_to_be_reexecuted": false,
    "source_hash": "25d43fa0",
    "execution_start": 1647959727116,
    "execution_millis": 10,
    "deepnote_cell_type": "code",
    "deepnote_cell_height": 252.25,
    "deepnote_output_heights": [
     156
    ]
   },
   "source": "df.columns",
   "execution_count": 7,
   "outputs": [
    {
     "output_type": "execute_result",
     "execution_count": 7,
     "data": {
      "text/plain": "Index(['CLIENTNUM', 'Attrition_Flag', 'Customer_Age', 'Gender',\n       'Dependent_count', 'Education_Level', 'Marital_Status',\n       'Income_Category', 'Card_Category', 'Months_on_book',\n       'Total_Relationship_Count', 'Months_Inactive_12_mon',\n       'Contacts_Count_12_mon', 'Credit_Limit', 'Total_Revolving_Bal',\n       'Avg_Open_To_Buy', 'Total_Amt_Chng_Q4_Q1', 'Total_Trans_Amt',\n       'Total_Trans_Ct', 'Total_Ct_Chng_Q4_Q1', 'Avg_Utilization_Ratio'],\n      dtype='object')"
     },
     "metadata": {}
    }
   ]
  },
  {
   "cell_type": "code",
   "metadata": {
    "cell_id": "00009-0e6ab106-3b4e-4b3f-a24c-93a5751945b6",
    "deepnote_to_be_reexecuted": false,
    "source_hash": "de1e323c",
    "execution_start": 1647959727196,
    "execution_millis": 9,
    "deepnote_cell_type": "code",
    "deepnote_cell_height": 649.8499755859375
   },
   "source": "df.info()",
   "execution_count": 8,
   "outputs": [
    {
     "name": "stdout",
     "text": "<class 'pandas.core.frame.DataFrame'>\nRangeIndex: 10127 entries, 0 to 10126\nData columns (total 21 columns):\n #   Column                    Non-Null Count  Dtype  \n---  ------                    --------------  -----  \n 0   CLIENTNUM                 10127 non-null  int64  \n 1   Attrition_Flag            10127 non-null  object \n 2   Customer_Age              10127 non-null  int64  \n 3   Gender                    10127 non-null  object \n 4   Dependent_count           10127 non-null  int64  \n 5   Education_Level           10127 non-null  object \n 6   Marital_Status            10127 non-null  object \n 7   Income_Category           10127 non-null  object \n 8   Card_Category             10127 non-null  object \n 9   Months_on_book            10127 non-null  int64  \n 10  Total_Relationship_Count  10127 non-null  int64  \n 11  Months_Inactive_12_mon    10127 non-null  int64  \n 12  Contacts_Count_12_mon     10127 non-null  int64  \n 13  Credit_Limit              10127 non-null  float64\n 14  Total_Revolving_Bal       10127 non-null  int64  \n 15  Avg_Open_To_Buy           10127 non-null  float64\n 16  Total_Amt_Chng_Q4_Q1      10127 non-null  float64\n 17  Total_Trans_Amt           10127 non-null  int64  \n 18  Total_Trans_Ct            10127 non-null  int64  \n 19  Total_Ct_Chng_Q4_Q1       10127 non-null  float64\n 20  Avg_Utilization_Ratio     10127 non-null  float64\ndtypes: float64(5), int64(10), object(6)\nmemory usage: 1.6+ MB\n",
     "output_type": "stream"
    }
   ]
  },
  {
   "cell_type": "markdown",
   "source": "- CLIENTUM: número de clientes\n- Attrition_Flag: Estado del cliente, 1 -> cuenta cerrada, 0 -> cuenta abierta\n- Customer_Age: \n- Gender: \n- Dependent_count: \n- Education_Level: \n- Marital_Status: \n- Income_Category:\n- Card_Category:\n- Months_on_book:\n- Total_Relationship_Count:\n- ",
   "metadata": {
    "cell_id": "00010-aaed7a14-2a4e-4a6b-99f8-d05a611c1153",
    "deepnote_cell_type": "markdown",
    "deepnote_cell_height": 352.8999938964844
   }
  },
  {
   "cell_type": "code",
   "metadata": {
    "cell_id": "00011-cd70a9c6-0785-4eb3-aa9b-2e4fdb9e1ffe",
    "deepnote_to_be_reexecuted": false,
    "source_hash": "f88152d9",
    "execution_start": 1647959727197,
    "execution_millis": 290,
    "deepnote_cell_type": "code",
    "deepnote_cell_height": 527.75
   },
   "source": "df.describe()",
   "execution_count": 9,
   "outputs": [
    {
     "output_type": "execute_result",
     "execution_count": 9,
     "data": {
      "application/vnd.deepnote.dataframe.v3+json": {
       "column_count": 15,
       "row_count": 8,
       "columns": [
        {
         "name": "CLIENTNUM",
         "dtype": "float64",
         "stats": {
          "unique_count": 8,
          "nan_count": 0,
          "min": "10127.0",
          "max": "828343083.0",
          "histogram": [
           {
            "bin_start": 10127,
            "bin_end": 82843422.6,
            "count": 2
           },
           {
            "bin_start": 82843422.6,
            "bin_end": 165676718.2,
            "count": 0
           },
           {
            "bin_start": 165676718.2,
            "bin_end": 248510013.79999998,
            "count": 0
           },
           {
            "bin_start": 248510013.79999998,
            "bin_end": 331343309.4,
            "count": 0
           },
           {
            "bin_start": 331343309.4,
            "bin_end": 414176605,
            "count": 0
           },
           {
            "bin_start": 414176605,
            "bin_end": 497009900.59999996,
            "count": 0
           },
           {
            "bin_start": 497009900.59999996,
            "bin_end": 579843196.1999999,
            "count": 0
           },
           {
            "bin_start": 579843196.1999999,
            "bin_end": 662676491.8,
            "count": 0
           },
           {
            "bin_start": 662676491.8,
            "bin_end": 745509787.4,
            "count": 4
           },
           {
            "bin_start": 745509787.4,
            "bin_end": 828343083,
            "count": 2
           }
          ]
         }
        },
        {
         "name": "Customer_Age",
         "dtype": "float64",
         "stats": {
          "unique_count": 8,
          "nan_count": 0,
          "min": "8.016814032549028",
          "max": "10127.0",
          "histogram": [
           {
            "bin_start": 8.016814032549028,
            "bin_end": 1019.9151326292941,
            "count": 7
           },
           {
            "bin_start": 1019.9151326292941,
            "bin_end": 2031.8134512260392,
            "count": 0
           },
           {
            "bin_start": 2031.8134512260392,
            "bin_end": 3043.7117698227844,
            "count": 0
           },
           {
            "bin_start": 3043.7117698227844,
            "bin_end": 4055.6100884195293,
            "count": 0
           },
           {
            "bin_start": 4055.6100884195293,
            "bin_end": 5067.508407016274,
            "count": 0
           },
           {
            "bin_start": 5067.508407016274,
            "bin_end": 6079.406725613019,
            "count": 0
           },
           {
            "bin_start": 6079.406725613019,
            "bin_end": 7091.305044209764,
            "count": 0
           },
           {
            "bin_start": 7091.305044209764,
            "bin_end": 8103.203362806509,
            "count": 0
           },
           {
            "bin_start": 8103.203362806509,
            "bin_end": 9115.101681403255,
            "count": 0
           },
           {
            "bin_start": 9115.101681403255,
            "bin_end": 10127,
            "count": 1
           }
          ]
         }
        },
        {
         "name": "Dependent_count",
         "dtype": "float64",
         "stats": {
          "unique_count": 8,
          "nan_count": 0,
          "min": "0.0",
          "max": "10127.0",
          "histogram": [
           {
            "bin_start": 0,
            "bin_end": 1012.7,
            "count": 7
           },
           {
            "bin_start": 1012.7,
            "bin_end": 2025.4,
            "count": 0
           },
           {
            "bin_start": 2025.4,
            "bin_end": 3038.1000000000004,
            "count": 0
           },
           {
            "bin_start": 3038.1000000000004,
            "bin_end": 4050.8,
            "count": 0
           },
           {
            "bin_start": 4050.8,
            "bin_end": 5063.5,
            "count": 0
           },
           {
            "bin_start": 5063.5,
            "bin_end": 6076.200000000001,
            "count": 0
           },
           {
            "bin_start": 6076.200000000001,
            "bin_end": 7088.900000000001,
            "count": 0
           },
           {
            "bin_start": 7088.900000000001,
            "bin_end": 8101.6,
            "count": 0
           },
           {
            "bin_start": 8101.6,
            "bin_end": 9114.300000000001,
            "count": 0
           },
           {
            "bin_start": 9114.300000000001,
            "bin_end": 10127,
            "count": 1
           }
          ]
         }
        },
        {
         "name": "Months_on_book",
         "dtype": "float64",
         "stats": {
          "unique_count": 8,
          "nan_count": 0,
          "min": "7.986416330872062",
          "max": "10127.0",
          "histogram": [
           {
            "bin_start": 7.986416330872062,
            "bin_end": 1019.8877746977848,
            "count": 7
           },
           {
            "bin_start": 1019.8877746977848,
            "bin_end": 2031.7891330646976,
            "count": 0
           },
           {
            "bin_start": 2031.7891330646976,
            "bin_end": 3043.69049143161,
            "count": 0
           },
           {
            "bin_start": 3043.69049143161,
            "bin_end": 4055.591849798523,
            "count": 0
           },
           {
            "bin_start": 4055.591849798523,
            "bin_end": 5067.493208165436,
            "count": 0
           },
           {
            "bin_start": 5067.493208165436,
            "bin_end": 6079.394566532348,
            "count": 0
           },
           {
            "bin_start": 6079.394566532348,
            "bin_end": 7091.295924899261,
            "count": 0
           },
           {
            "bin_start": 7091.295924899261,
            "bin_end": 8103.197283266174,
            "count": 0
           },
           {
            "bin_start": 8103.197283266174,
            "bin_end": 9115.098641633087,
            "count": 0
           },
           {
            "bin_start": 9115.098641633087,
            "bin_end": 10127,
            "count": 1
           }
          ]
         }
        },
        {
         "name": "Total_Relationship_Count",
         "dtype": "float64",
         "stats": {
          "unique_count": 8,
          "nan_count": 0,
          "min": "1.0",
          "max": "10127.0",
          "histogram": [
           {
            "bin_start": 1,
            "bin_end": 1013.6,
            "count": 7
           },
           {
            "bin_start": 1013.6,
            "bin_end": 2026.2,
            "count": 0
           },
           {
            "bin_start": 2026.2,
            "bin_end": 3038.8,
            "count": 0
           },
           {
            "bin_start": 3038.8,
            "bin_end": 4051.4,
            "count": 0
           },
           {
            "bin_start": 4051.4,
            "bin_end": 5064,
            "count": 0
           },
           {
            "bin_start": 5064,
            "bin_end": 6076.6,
            "count": 0
           },
           {
            "bin_start": 6076.6,
            "bin_end": 7089.2,
            "count": 0
           },
           {
            "bin_start": 7089.2,
            "bin_end": 8101.8,
            "count": 0
           },
           {
            "bin_start": 8101.8,
            "bin_end": 9114.4,
            "count": 0
           },
           {
            "bin_start": 9114.4,
            "bin_end": 10127,
            "count": 1
           }
          ]
         }
        },
        {
         "name": "Months_Inactive_12_mon",
         "dtype": "float64",
         "stats": {
          "unique_count": 7,
          "nan_count": 0,
          "min": "0.0",
          "max": "10127.0",
          "histogram": [
           {
            "bin_start": 0,
            "bin_end": 1012.7,
            "count": 7
           },
           {
            "bin_start": 1012.7,
            "bin_end": 2025.4,
            "count": 0
           },
           {
            "bin_start": 2025.4,
            "bin_end": 3038.1000000000004,
            "count": 0
           },
           {
            "bin_start": 3038.1000000000004,
            "bin_end": 4050.8,
            "count": 0
           },
           {
            "bin_start": 4050.8,
            "bin_end": 5063.5,
            "count": 0
           },
           {
            "bin_start": 5063.5,
            "bin_end": 6076.200000000001,
            "count": 0
           },
           {
            "bin_start": 6076.200000000001,
            "bin_end": 7088.900000000001,
            "count": 0
           },
           {
            "bin_start": 7088.900000000001,
            "bin_end": 8101.6,
            "count": 0
           },
           {
            "bin_start": 8101.6,
            "bin_end": 9114.300000000001,
            "count": 0
           },
           {
            "bin_start": 9114.300000000001,
            "bin_end": 10127,
            "count": 1
           }
          ]
         }
        },
        {
         "name": "Contacts_Count_12_mon",
         "dtype": "float64",
         "stats": {
          "unique_count": 7,
          "nan_count": 0,
          "min": "0.0",
          "max": "10127.0",
          "histogram": [
           {
            "bin_start": 0,
            "bin_end": 1012.7,
            "count": 7
           },
           {
            "bin_start": 1012.7,
            "bin_end": 2025.4,
            "count": 0
           },
           {
            "bin_start": 2025.4,
            "bin_end": 3038.1000000000004,
            "count": 0
           },
           {
            "bin_start": 3038.1000000000004,
            "bin_end": 4050.8,
            "count": 0
           },
           {
            "bin_start": 4050.8,
            "bin_end": 5063.5,
            "count": 0
           },
           {
            "bin_start": 5063.5,
            "bin_end": 6076.200000000001,
            "count": 0
           },
           {
            "bin_start": 6076.200000000001,
            "bin_end": 7088.900000000001,
            "count": 0
           },
           {
            "bin_start": 7088.900000000001,
            "bin_end": 8101.6,
            "count": 0
           },
           {
            "bin_start": 8101.6,
            "bin_end": 9114.300000000001,
            "count": 0
           },
           {
            "bin_start": 9114.300000000001,
            "bin_end": 10127,
            "count": 1
           }
          ]
         }
        },
        {
         "name": "Credit_Limit",
         "dtype": "float64",
         "stats": {
          "unique_count": 8,
          "nan_count": 0,
          "min": "1438.3",
          "max": "34516.0",
          "histogram": [
           {
            "bin_start": 1438.3,
            "bin_end": 4746.07,
            "count": 3
           },
           {
            "bin_start": 4746.07,
            "bin_end": 8053.839999999999,
            "count": 0
           },
           {
            "bin_start": 8053.839999999999,
            "bin_end": 11361.609999999997,
            "count": 4
           },
           {
            "bin_start": 11361.609999999997,
            "bin_end": 14669.379999999997,
            "count": 0
           },
           {
            "bin_start": 14669.379999999997,
            "bin_end": 17977.149999999998,
            "count": 0
           },
           {
            "bin_start": 17977.149999999998,
            "bin_end": 21284.919999999995,
            "count": 0
           },
           {
            "bin_start": 21284.919999999995,
            "bin_end": 24592.689999999995,
            "count": 0
           },
           {
            "bin_start": 24592.689999999995,
            "bin_end": 27900.459999999995,
            "count": 0
           },
           {
            "bin_start": 27900.459999999995,
            "bin_end": 31208.229999999996,
            "count": 0
           },
           {
            "bin_start": 31208.229999999996,
            "bin_end": 34516,
            "count": 1
           }
          ]
         }
        },
        {
         "name": "Total_Revolving_Bal",
         "dtype": "float64",
         "stats": {
          "unique_count": 8,
          "nan_count": 0,
          "min": "0.0",
          "max": "10127.0",
          "histogram": [
           {
            "bin_start": 0,
            "bin_end": 1012.7,
            "count": 3
           },
           {
            "bin_start": 1012.7,
            "bin_end": 2025.4,
            "count": 3
           },
           {
            "bin_start": 2025.4,
            "bin_end": 3038.1000000000004,
            "count": 1
           },
           {
            "bin_start": 3038.1000000000004,
            "bin_end": 4050.8,
            "count": 0
           },
           {
            "bin_start": 4050.8,
            "bin_end": 5063.5,
            "count": 0
           },
           {
            "bin_start": 5063.5,
            "bin_end": 6076.200000000001,
            "count": 0
           },
           {
            "bin_start": 6076.200000000001,
            "bin_end": 7088.900000000001,
            "count": 0
           },
           {
            "bin_start": 7088.900000000001,
            "bin_end": 8101.6,
            "count": 0
           },
           {
            "bin_start": 8101.6,
            "bin_end": 9114.300000000001,
            "count": 0
           },
           {
            "bin_start": 9114.300000000001,
            "bin_end": 10127,
            "count": 1
           }
          ]
         }
        },
        {
         "name": "Avg_Open_To_Buy",
         "dtype": "float64",
         "stats": {
          "unique_count": 8,
          "nan_count": 0,
          "min": "3.0",
          "max": "34516.0",
          "histogram": [
           {
            "bin_start": 3,
            "bin_end": 3454.3,
            "count": 2
           },
           {
            "bin_start": 3454.3,
            "bin_end": 6905.6,
            "count": 1
           },
           {
            "bin_start": 6905.6,
            "bin_end": 10356.900000000001,
            "count": 4
           },
           {
            "bin_start": 10356.900000000001,
            "bin_end": 13808.2,
            "count": 0
           },
           {
            "bin_start": 13808.2,
            "bin_end": 17259.5,
            "count": 0
           },
           {
            "bin_start": 17259.5,
            "bin_end": 20710.800000000003,
            "count": 0
           },
           {
            "bin_start": 20710.800000000003,
            "bin_end": 24162.100000000002,
            "count": 0
           },
           {
            "bin_start": 24162.100000000002,
            "bin_end": 27613.4,
            "count": 0
           },
           {
            "bin_start": 27613.4,
            "bin_end": 31064.7,
            "count": 0
           },
           {
            "bin_start": 31064.7,
            "bin_end": 34516,
            "count": 1
           }
          ]
         }
        },
        {
         "name": "Total_Amt_Chng_Q4_Q1",
         "dtype": "float64",
         "stats": {
          "unique_count": 8,
          "nan_count": 0,
          "min": "0.0",
          "max": "10127.0",
          "histogram": [
           {
            "bin_start": 0,
            "bin_end": 1012.7,
            "count": 7
           },
           {
            "bin_start": 1012.7,
            "bin_end": 2025.4,
            "count": 0
           },
           {
            "bin_start": 2025.4,
            "bin_end": 3038.1000000000004,
            "count": 0
           },
           {
            "bin_start": 3038.1000000000004,
            "bin_end": 4050.8,
            "count": 0
           },
           {
            "bin_start": 4050.8,
            "bin_end": 5063.5,
            "count": 0
           },
           {
            "bin_start": 5063.5,
            "bin_end": 6076.200000000001,
            "count": 0
           },
           {
            "bin_start": 6076.200000000001,
            "bin_end": 7088.900000000001,
            "count": 0
           },
           {
            "bin_start": 7088.900000000001,
            "bin_end": 8101.6,
            "count": 0
           },
           {
            "bin_start": 8101.6,
            "bin_end": 9114.300000000001,
            "count": 0
           },
           {
            "bin_start": 9114.300000000001,
            "bin_end": 10127,
            "count": 1
           }
          ]
         }
        },
        {
         "name": "Total_Trans_Amt",
         "dtype": "float64",
         "stats": {
          "unique_count": 8,
          "nan_count": 0,
          "min": "510.0",
          "max": "18484.0",
          "histogram": [
           {
            "bin_start": 510,
            "bin_end": 2307.4,
            "count": 2
           },
           {
            "bin_start": 2307.4,
            "bin_end": 4104.8,
            "count": 2
           },
           {
            "bin_start": 4104.8,
            "bin_end": 5902.200000000001,
            "count": 2
           },
           {
            "bin_start": 5902.200000000001,
            "bin_end": 7699.6,
            "count": 0
           },
           {
            "bin_start": 7699.6,
            "bin_end": 9497,
            "count": 0
           },
           {
            "bin_start": 9497,
            "bin_end": 11294.400000000001,
            "count": 1
           },
           {
            "bin_start": 11294.400000000001,
            "bin_end": 13091.800000000001,
            "count": 0
           },
           {
            "bin_start": 13091.800000000001,
            "bin_end": 14889.2,
            "count": 0
           },
           {
            "bin_start": 14889.2,
            "bin_end": 16686.6,
            "count": 0
           },
           {
            "bin_start": 16686.6,
            "bin_end": 18484,
            "count": 1
           }
          ]
         }
        },
        {
         "name": "Total_Trans_Ct",
         "dtype": "float64",
         "stats": {
          "unique_count": 8,
          "nan_count": 0,
          "min": "10.0",
          "max": "10127.0",
          "histogram": [
           {
            "bin_start": 10,
            "bin_end": 1021.7,
            "count": 7
           },
           {
            "bin_start": 1021.7,
            "bin_end": 2033.4,
            "count": 0
           },
           {
            "bin_start": 2033.4,
            "bin_end": 3045.1000000000004,
            "count": 0
           },
           {
            "bin_start": 3045.1000000000004,
            "bin_end": 4056.8,
            "count": 0
           },
           {
            "bin_start": 4056.8,
            "bin_end": 5068.5,
            "count": 0
           },
           {
            "bin_start": 5068.5,
            "bin_end": 6080.200000000001,
            "count": 0
           },
           {
            "bin_start": 6080.200000000001,
            "bin_end": 7091.900000000001,
            "count": 0
           },
           {
            "bin_start": 7091.900000000001,
            "bin_end": 8103.6,
            "count": 0
           },
           {
            "bin_start": 8103.6,
            "bin_end": 9115.300000000001,
            "count": 0
           },
           {
            "bin_start": 9115.300000000001,
            "bin_end": 10127,
            "count": 1
           }
          ]
         }
        },
        {
         "name": "Total_Ct_Chng_Q4_Q1",
         "dtype": "float64",
         "stats": {
          "unique_count": 8,
          "nan_count": 0,
          "min": "0.0",
          "max": "10127.0",
          "histogram": [
           {
            "bin_start": 0,
            "bin_end": 1012.7,
            "count": 7
           },
           {
            "bin_start": 1012.7,
            "bin_end": 2025.4,
            "count": 0
           },
           {
            "bin_start": 2025.4,
            "bin_end": 3038.1000000000004,
            "count": 0
           },
           {
            "bin_start": 3038.1000000000004,
            "bin_end": 4050.8,
            "count": 0
           },
           {
            "bin_start": 4050.8,
            "bin_end": 5063.5,
            "count": 0
           },
           {
            "bin_start": 5063.5,
            "bin_end": 6076.200000000001,
            "count": 0
           },
           {
            "bin_start": 6076.200000000001,
            "bin_end": 7088.900000000001,
            "count": 0
           },
           {
            "bin_start": 7088.900000000001,
            "bin_end": 8101.6,
            "count": 0
           },
           {
            "bin_start": 8101.6,
            "bin_end": 9114.300000000001,
            "count": 0
           },
           {
            "bin_start": 9114.300000000001,
            "bin_end": 10127,
            "count": 1
           }
          ]
         }
        },
        {
         "name": "Avg_Utilization_Ratio",
         "dtype": "float64",
         "stats": {
          "unique_count": 8,
          "nan_count": 0,
          "min": "0.0",
          "max": "10127.0",
          "histogram": [
           {
            "bin_start": 0,
            "bin_end": 1012.7,
            "count": 7
           },
           {
            "bin_start": 1012.7,
            "bin_end": 2025.4,
            "count": 0
           },
           {
            "bin_start": 2025.4,
            "bin_end": 3038.1000000000004,
            "count": 0
           },
           {
            "bin_start": 3038.1000000000004,
            "bin_end": 4050.8,
            "count": 0
           },
           {
            "bin_start": 4050.8,
            "bin_end": 5063.5,
            "count": 0
           },
           {
            "bin_start": 5063.5,
            "bin_end": 6076.200000000001,
            "count": 0
           },
           {
            "bin_start": 6076.200000000001,
            "bin_end": 7088.900000000001,
            "count": 0
           },
           {
            "bin_start": 7088.900000000001,
            "bin_end": 8101.6,
            "count": 0
           },
           {
            "bin_start": 8101.6,
            "bin_end": 9114.300000000001,
            "count": 0
           },
           {
            "bin_start": 9114.300000000001,
            "bin_end": 10127,
            "count": 1
           }
          ]
         }
        },
        {
         "name": "_deepnote_index_column",
         "dtype": "object"
        }
       ],
       "rows": [
        {
         "CLIENTNUM": 10127,
         "Customer_Age": 10127,
         "Dependent_count": 10127,
         "Months_on_book": 10127,
         "Total_Relationship_Count": 10127,
         "Months_Inactive_12_mon": 10127,
         "Contacts_Count_12_mon": 10127,
         "Credit_Limit": 10127,
         "Total_Revolving_Bal": 10127,
         "Avg_Open_To_Buy": 10127,
         "Total_Amt_Chng_Q4_Q1": 10127,
         "Total_Trans_Amt": 10127,
         "Total_Trans_Ct": 10127,
         "Total_Ct_Chng_Q4_Q1": 10127,
         "Avg_Utilization_Ratio": 10127,
         "_deepnote_index_column": "count"
        },
        {
         "CLIENTNUM": 739177606.3336625,
         "Customer_Age": 46.32596030413745,
         "Dependent_count": 2.3462032191172115,
         "Months_on_book": 35.928409203120374,
         "Total_Relationship_Count": 3.8125802310654686,
         "Months_Inactive_12_mon": 2.3411671768539546,
         "Contacts_Count_12_mon": 2.4553174681544387,
         "Credit_Limit": 8631.953698034955,
         "Total_Revolving_Bal": 1162.8140614199665,
         "Avg_Open_To_Buy": 7469.139636614989,
         "Total_Amt_Chng_Q4_Q1": 0.7599406536980349,
         "Total_Trans_Amt": 4404.086303939963,
         "Total_Trans_Ct": 64.85869457884863,
         "Total_Ct_Chng_Q4_Q1": 0.7122223758269972,
         "Avg_Utilization_Ratio": 0.2748935518909845,
         "_deepnote_index_column": "mean"
        },
        {
         "CLIENTNUM": 36903783.45023115,
         "Customer_Age": 8.016814032549028,
         "Dependent_count": 1.2989083489037903,
         "Months_on_book": 7.986416330872062,
         "Total_Relationship_Count": 1.5544078653388251,
         "Months_Inactive_12_mon": 1.0106223994182812,
         "Contacts_Count_12_mon": 1.106225142635924,
         "Credit_Limit": 9088.776650223155,
         "Total_Revolving_Bal": 814.9873352357522,
         "Avg_Open_To_Buy": 9090.685323679103,
         "Total_Amt_Chng_Q4_Q1": 0.21920676923070273,
         "Total_Trans_Amt": 3397.129253557087,
         "Total_Trans_Ct": 23.472570449232997,
         "Total_Ct_Chng_Q4_Q1": 0.2380860913329413,
         "Avg_Utilization_Ratio": 0.27569146925238774,
         "_deepnote_index_column": "std"
        },
        {
         "CLIENTNUM": 708082083,
         "Customer_Age": 26,
         "Dependent_count": 0,
         "Months_on_book": 13,
         "Total_Relationship_Count": 1,
         "Months_Inactive_12_mon": 0,
         "Contacts_Count_12_mon": 0,
         "Credit_Limit": 1438.3,
         "Total_Revolving_Bal": 0,
         "Avg_Open_To_Buy": 3,
         "Total_Amt_Chng_Q4_Q1": 0,
         "Total_Trans_Amt": 510,
         "Total_Trans_Ct": 10,
         "Total_Ct_Chng_Q4_Q1": 0,
         "Avg_Utilization_Ratio": 0,
         "_deepnote_index_column": "min"
        },
        {
         "CLIENTNUM": 713036770.5,
         "Customer_Age": 41,
         "Dependent_count": 1,
         "Months_on_book": 31,
         "Total_Relationship_Count": 3,
         "Months_Inactive_12_mon": 2,
         "Contacts_Count_12_mon": 2,
         "Credit_Limit": 2555,
         "Total_Revolving_Bal": 359,
         "Avg_Open_To_Buy": 1324.5,
         "Total_Amt_Chng_Q4_Q1": 0.631,
         "Total_Trans_Amt": 2155.5,
         "Total_Trans_Ct": 45,
         "Total_Ct_Chng_Q4_Q1": 0.582,
         "Avg_Utilization_Ratio": 0.023,
         "_deepnote_index_column": "25%"
        },
        {
         "CLIENTNUM": 717926358,
         "Customer_Age": 46,
         "Dependent_count": 2,
         "Months_on_book": 36,
         "Total_Relationship_Count": 4,
         "Months_Inactive_12_mon": 2,
         "Contacts_Count_12_mon": 2,
         "Credit_Limit": 4549,
         "Total_Revolving_Bal": 1276,
         "Avg_Open_To_Buy": 3474,
         "Total_Amt_Chng_Q4_Q1": 0.736,
         "Total_Trans_Amt": 3899,
         "Total_Trans_Ct": 67,
         "Total_Ct_Chng_Q4_Q1": 0.702,
         "Avg_Utilization_Ratio": 0.176,
         "_deepnote_index_column": "50%"
        },
        {
         "CLIENTNUM": 773143533,
         "Customer_Age": 52,
         "Dependent_count": 3,
         "Months_on_book": 40,
         "Total_Relationship_Count": 5,
         "Months_Inactive_12_mon": 3,
         "Contacts_Count_12_mon": 3,
         "Credit_Limit": 11067.5,
         "Total_Revolving_Bal": 1784,
         "Avg_Open_To_Buy": 9859,
         "Total_Amt_Chng_Q4_Q1": 0.859,
         "Total_Trans_Amt": 4741,
         "Total_Trans_Ct": 81,
         "Total_Ct_Chng_Q4_Q1": 0.818,
         "Avg_Utilization_Ratio": 0.503,
         "_deepnote_index_column": "75%"
        },
        {
         "CLIENTNUM": 828343083,
         "Customer_Age": 73,
         "Dependent_count": 5,
         "Months_on_book": 56,
         "Total_Relationship_Count": 6,
         "Months_Inactive_12_mon": 6,
         "Contacts_Count_12_mon": 6,
         "Credit_Limit": 34516,
         "Total_Revolving_Bal": 2517,
         "Avg_Open_To_Buy": 34516,
         "Total_Amt_Chng_Q4_Q1": 3.397,
         "Total_Trans_Amt": 18484,
         "Total_Trans_Ct": 139,
         "Total_Ct_Chng_Q4_Q1": 3.714,
         "Avg_Utilization_Ratio": 0.999,
         "_deepnote_index_column": "max"
        }
       ]
      },
      "text/plain": "          CLIENTNUM  Customer_Age  Dependent_count  Months_on_book  \\\ncount  1.012700e+04  10127.000000     10127.000000    10127.000000   \nmean   7.391776e+08     46.325960         2.346203       35.928409   \nstd    3.690378e+07      8.016814         1.298908        7.986416   \nmin    7.080821e+08     26.000000         0.000000       13.000000   \n25%    7.130368e+08     41.000000         1.000000       31.000000   \n50%    7.179264e+08     46.000000         2.000000       36.000000   \n75%    7.731435e+08     52.000000         3.000000       40.000000   \nmax    8.283431e+08     73.000000         5.000000       56.000000   \n\n       Total_Relationship_Count  Months_Inactive_12_mon  \\\ncount              10127.000000            10127.000000   \nmean                   3.812580                2.341167   \nstd                    1.554408                1.010622   \nmin                    1.000000                0.000000   \n25%                    3.000000                2.000000   \n50%                    4.000000                2.000000   \n75%                    5.000000                3.000000   \nmax                    6.000000                6.000000   \n\n       Contacts_Count_12_mon  Credit_Limit  Total_Revolving_Bal  \\\ncount           10127.000000  10127.000000         10127.000000   \nmean                2.455317   8631.953698          1162.814061   \nstd                 1.106225   9088.776650           814.987335   \nmin                 0.000000   1438.300000             0.000000   \n25%                 2.000000   2555.000000           359.000000   \n50%                 2.000000   4549.000000          1276.000000   \n75%                 3.000000  11067.500000          1784.000000   \nmax                 6.000000  34516.000000          2517.000000   \n\n       Avg_Open_To_Buy  Total_Amt_Chng_Q4_Q1  Total_Trans_Amt  Total_Trans_Ct  \\\ncount     10127.000000          10127.000000     10127.000000    10127.000000   \nmean       7469.139637              0.759941      4404.086304       64.858695   \nstd        9090.685324              0.219207      3397.129254       23.472570   \nmin           3.000000              0.000000       510.000000       10.000000   \n25%        1324.500000              0.631000      2155.500000       45.000000   \n50%        3474.000000              0.736000      3899.000000       67.000000   \n75%        9859.000000              0.859000      4741.000000       81.000000   \nmax       34516.000000              3.397000     18484.000000      139.000000   \n\n       Total_Ct_Chng_Q4_Q1  Avg_Utilization_Ratio  \ncount         10127.000000           10127.000000  \nmean              0.712222               0.274894  \nstd               0.238086               0.275691  \nmin               0.000000               0.000000  \n25%               0.582000               0.023000  \n50%               0.702000               0.176000  \n75%               0.818000               0.503000  \nmax               3.714000               0.999000  ",
      "text/html": "<div>\n<style scoped>\n    .dataframe tbody tr th:only-of-type {\n        vertical-align: middle;\n    }\n\n    .dataframe tbody tr th {\n        vertical-align: top;\n    }\n\n    .dataframe thead th {\n        text-align: right;\n    }\n</style>\n<table border=\"1\" class=\"dataframe\">\n  <thead>\n    <tr style=\"text-align: right;\">\n      <th></th>\n      <th>CLIENTNUM</th>\n      <th>Customer_Age</th>\n      <th>Dependent_count</th>\n      <th>Months_on_book</th>\n      <th>Total_Relationship_Count</th>\n      <th>Months_Inactive_12_mon</th>\n      <th>Contacts_Count_12_mon</th>\n      <th>Credit_Limit</th>\n      <th>Total_Revolving_Bal</th>\n      <th>Avg_Open_To_Buy</th>\n      <th>Total_Amt_Chng_Q4_Q1</th>\n      <th>Total_Trans_Amt</th>\n      <th>Total_Trans_Ct</th>\n      <th>Total_Ct_Chng_Q4_Q1</th>\n      <th>Avg_Utilization_Ratio</th>\n    </tr>\n  </thead>\n  <tbody>\n    <tr>\n      <th>count</th>\n      <td>1.012700e+04</td>\n      <td>10127.000000</td>\n      <td>10127.000000</td>\n      <td>10127.000000</td>\n      <td>10127.000000</td>\n      <td>10127.000000</td>\n      <td>10127.000000</td>\n      <td>10127.000000</td>\n      <td>10127.000000</td>\n      <td>10127.000000</td>\n      <td>10127.000000</td>\n      <td>10127.000000</td>\n      <td>10127.000000</td>\n      <td>10127.000000</td>\n      <td>10127.000000</td>\n    </tr>\n    <tr>\n      <th>mean</th>\n      <td>7.391776e+08</td>\n      <td>46.325960</td>\n      <td>2.346203</td>\n      <td>35.928409</td>\n      <td>3.812580</td>\n      <td>2.341167</td>\n      <td>2.455317</td>\n      <td>8631.953698</td>\n      <td>1162.814061</td>\n      <td>7469.139637</td>\n      <td>0.759941</td>\n      <td>4404.086304</td>\n      <td>64.858695</td>\n      <td>0.712222</td>\n      <td>0.274894</td>\n    </tr>\n    <tr>\n      <th>std</th>\n      <td>3.690378e+07</td>\n      <td>8.016814</td>\n      <td>1.298908</td>\n      <td>7.986416</td>\n      <td>1.554408</td>\n      <td>1.010622</td>\n      <td>1.106225</td>\n      <td>9088.776650</td>\n      <td>814.987335</td>\n      <td>9090.685324</td>\n      <td>0.219207</td>\n      <td>3397.129254</td>\n      <td>23.472570</td>\n      <td>0.238086</td>\n      <td>0.275691</td>\n    </tr>\n    <tr>\n      <th>min</th>\n      <td>7.080821e+08</td>\n      <td>26.000000</td>\n      <td>0.000000</td>\n      <td>13.000000</td>\n      <td>1.000000</td>\n      <td>0.000000</td>\n      <td>0.000000</td>\n      <td>1438.300000</td>\n      <td>0.000000</td>\n      <td>3.000000</td>\n      <td>0.000000</td>\n      <td>510.000000</td>\n      <td>10.000000</td>\n      <td>0.000000</td>\n      <td>0.000000</td>\n    </tr>\n    <tr>\n      <th>25%</th>\n      <td>7.130368e+08</td>\n      <td>41.000000</td>\n      <td>1.000000</td>\n      <td>31.000000</td>\n      <td>3.000000</td>\n      <td>2.000000</td>\n      <td>2.000000</td>\n      <td>2555.000000</td>\n      <td>359.000000</td>\n      <td>1324.500000</td>\n      <td>0.631000</td>\n      <td>2155.500000</td>\n      <td>45.000000</td>\n      <td>0.582000</td>\n      <td>0.023000</td>\n    </tr>\n    <tr>\n      <th>50%</th>\n      <td>7.179264e+08</td>\n      <td>46.000000</td>\n      <td>2.000000</td>\n      <td>36.000000</td>\n      <td>4.000000</td>\n      <td>2.000000</td>\n      <td>2.000000</td>\n      <td>4549.000000</td>\n      <td>1276.000000</td>\n      <td>3474.000000</td>\n      <td>0.736000</td>\n      <td>3899.000000</td>\n      <td>67.000000</td>\n      <td>0.702000</td>\n      <td>0.176000</td>\n    </tr>\n    <tr>\n      <th>75%</th>\n      <td>7.731435e+08</td>\n      <td>52.000000</td>\n      <td>3.000000</td>\n      <td>40.000000</td>\n      <td>5.000000</td>\n      <td>3.000000</td>\n      <td>3.000000</td>\n      <td>11067.500000</td>\n      <td>1784.000000</td>\n      <td>9859.000000</td>\n      <td>0.859000</td>\n      <td>4741.000000</td>\n      <td>81.000000</td>\n      <td>0.818000</td>\n      <td>0.503000</td>\n    </tr>\n    <tr>\n      <th>max</th>\n      <td>8.283431e+08</td>\n      <td>73.000000</td>\n      <td>5.000000</td>\n      <td>56.000000</td>\n      <td>6.000000</td>\n      <td>6.000000</td>\n      <td>6.000000</td>\n      <td>34516.000000</td>\n      <td>2517.000000</td>\n      <td>34516.000000</td>\n      <td>3.397000</td>\n      <td>18484.000000</td>\n      <td>139.000000</td>\n      <td>3.714000</td>\n      <td>0.999000</td>\n    </tr>\n  </tbody>\n</table>\n</div>"
     },
     "metadata": {}
    }
   ]
  },
  {
   "cell_type": "markdown",
   "source": "- ¿Cuantos clientes se han ido y cuantos continuan?",
   "metadata": {
    "cell_id": "00012-710adfae-7515-4190-b23e-29204df7d075",
    "deepnote_cell_type": "markdown",
    "deepnote_cell_height": 69.28334045410156
   }
  },
  {
   "cell_type": "code",
   "metadata": {
    "cell_id": "00013-bee2bf12-05a3-4a41-a670-4b611f075f56",
    "deepnote_to_be_reexecuted": false,
    "source_hash": "65edb434",
    "execution_start": 1647959727518,
    "execution_millis": 999535497,
    "deepnote_cell_type": "code",
    "deepnote_cell_height": 174.25,
    "deepnote_output_heights": [
     60
    ]
   },
   "source": "status = df['Attrition_Flag'].value_counts()\nstatus",
   "execution_count": 10,
   "outputs": [
    {
     "output_type": "execute_result",
     "execution_count": 10,
     "data": {
      "text/plain": "Existing Customer    8500\nAttrited Customer    1627\nName: Attrition_Flag, dtype: int64"
     },
     "metadata": {}
    }
   ]
  },
  {
   "cell_type": "code",
   "metadata": {
    "cell_id": "00014-cbaead37-24f1-4ea7-a8e6-71b443406f7b",
    "deepnote_to_be_reexecuted": false,
    "source_hash": "5994a97a",
    "execution_start": 1647959727571,
    "execution_millis": 1,
    "deepnote_cell_type": "code",
    "deepnote_cell_height": 287
   },
   "source": "status_gender = pd.crosstab(df['Gender'], df['Attrition_Flag'])\nstatus_gender",
   "execution_count": 11,
   "outputs": [
    {
     "output_type": "execute_result",
     "execution_count": 11,
     "data": {
      "application/vnd.deepnote.dataframe.v3+json": {
       "column_count": 2,
       "row_count": 2,
       "columns": [
        {
         "name": "Attrited Customer",
         "dtype": "int64",
         "stats": {
          "unique_count": 2,
          "nan_count": 0,
          "min": "697",
          "max": "930",
          "histogram": [
           {
            "bin_start": 697,
            "bin_end": 720.3,
            "count": 1
           },
           {
            "bin_start": 720.3,
            "bin_end": 743.6,
            "count": 0
           },
           {
            "bin_start": 743.6,
            "bin_end": 766.9,
            "count": 0
           },
           {
            "bin_start": 766.9,
            "bin_end": 790.2,
            "count": 0
           },
           {
            "bin_start": 790.2,
            "bin_end": 813.5,
            "count": 0
           },
           {
            "bin_start": 813.5,
            "bin_end": 836.8,
            "count": 0
           },
           {
            "bin_start": 836.8,
            "bin_end": 860.1,
            "count": 0
           },
           {
            "bin_start": 860.1,
            "bin_end": 883.4,
            "count": 0
           },
           {
            "bin_start": 883.4,
            "bin_end": 906.7,
            "count": 0
           },
           {
            "bin_start": 906.7,
            "bin_end": 930,
            "count": 1
           }
          ]
         }
        },
        {
         "name": "Existing Customer",
         "dtype": "int64",
         "stats": {
          "unique_count": 2,
          "nan_count": 0,
          "min": "4072",
          "max": "4428",
          "histogram": [
           {
            "bin_start": 4072,
            "bin_end": 4107.6,
            "count": 1
           },
           {
            "bin_start": 4107.6,
            "bin_end": 4143.2,
            "count": 0
           },
           {
            "bin_start": 4143.2,
            "bin_end": 4178.8,
            "count": 0
           },
           {
            "bin_start": 4178.8,
            "bin_end": 4214.4,
            "count": 0
           },
           {
            "bin_start": 4214.4,
            "bin_end": 4250,
            "count": 0
           },
           {
            "bin_start": 4250,
            "bin_end": 4285.6,
            "count": 0
           },
           {
            "bin_start": 4285.6,
            "bin_end": 4321.2,
            "count": 0
           },
           {
            "bin_start": 4321.2,
            "bin_end": 4356.8,
            "count": 0
           },
           {
            "bin_start": 4356.8,
            "bin_end": 4392.4,
            "count": 0
           },
           {
            "bin_start": 4392.4,
            "bin_end": 4428,
            "count": 1
           }
          ]
         }
        },
        {
         "name": "_deepnote_index_column",
         "dtype": "object"
        }
       ],
       "rows": [
        {
         "Attrited Customer": 930,
         "Existing Customer": 4428,
         "_deepnote_index_column": "F"
        },
        {
         "Attrited Customer": 697,
         "Existing Customer": 4072,
         "_deepnote_index_column": "M"
        }
       ]
      },
      "text/plain": "Attrition_Flag  Attrited Customer  Existing Customer\nGender                                              \nF                             930               4428\nM                             697               4072",
      "text/html": "<div>\n<style scoped>\n    .dataframe tbody tr th:only-of-type {\n        vertical-align: middle;\n    }\n\n    .dataframe tbody tr th {\n        vertical-align: top;\n    }\n\n    .dataframe thead th {\n        text-align: right;\n    }\n</style>\n<table border=\"1\" class=\"dataframe\">\n  <thead>\n    <tr style=\"text-align: right;\">\n      <th>Attrition_Flag</th>\n      <th>Attrited Customer</th>\n      <th>Existing Customer</th>\n    </tr>\n    <tr>\n      <th>Gender</th>\n      <th></th>\n      <th></th>\n    </tr>\n  </thead>\n  <tbody>\n    <tr>\n      <th>F</th>\n      <td>930</td>\n      <td>4428</td>\n    </tr>\n    <tr>\n      <th>M</th>\n      <td>697</td>\n      <td>4072</td>\n    </tr>\n  </tbody>\n</table>\n</div>"
     },
     "metadata": {}
    }
   ]
  },
  {
   "cell_type": "code",
   "metadata": {
    "cell_id": "00015-3cb40064-4373-4016-a1e5-b95ee49a6e36",
    "deepnote_to_be_reexecuted": false,
    "source_hash": "3367a5ff",
    "execution_start": 1647959727571,
    "execution_millis": 313,
    "deepnote_cell_type": "code",
    "deepnote_cell_height": 523,
    "deepnote_output_heights": [
     21,
     267
    ]
   },
   "source": "sns.heatmap(status_gender, cmap='RdBu', vmin=0, vmax=10127,\n    square=True, annot=True, fmt='.0f', linewidth = 1, linecolor = 'white',\n    annot_kws = {\n        'fontsize': 16,\n        'fontweight': 'normal',\n        'fontfamily': 'sans-serif'\n    })",
   "execution_count": 12,
   "outputs": [
    {
     "output_type": "execute_result",
     "execution_count": 12,
     "data": {
      "text/plain": "<AxesSubplot:xlabel='Attrition_Flag', ylabel='Gender'>"
     },
     "metadata": {}
    },
    {
     "data": {
      "text/plain": "<Figure size 432x288 with 2 Axes>",
      "image/png": "[encoded data removed]"
     },
     "metadata": {
      "needs_background": "light",
      "image/png": {
       "width": 328,
       "height": 265
      }
     },
     "output_type": "display_data"
    }
   ]
  },
  {
   "cell_type": "code",
   "metadata": {
    "cell_id": "00016-7a5e6567-0d1c-409a-9c00-0ff45f689a89",
    "deepnote_to_be_reexecuted": false,
    "source_hash": "6bab53dc",
    "execution_start": 1647959727893,
    "execution_millis": 322,
    "deepnote_cell_type": "code",
    "deepnote_cell_height": 622,
    "deepnote_output_heights": [
     21,
     348
    ]
   },
   "source": "card = pd.crosstab(df['Card_Category'],df['Attrition_Flag'])\nsns.heatmap(card, cmap='RdBu', vmin=0, vmax=10127,\n    square=True, annot=True, fmt='.0f', linewidth = 1, linecolor = 'white',\n    annot_kws = {\n        'fontsize': 16,\n        'fontweight': 'normal',\n        'fontfamily': 'sans-serif'\n    })",
   "execution_count": 13,
   "outputs": [
    {
     "output_type": "execute_result",
     "execution_count": 13,
     "data": {
      "text/plain": "<AxesSubplot:xlabel='Attrition_Flag', ylabel='Card_Category'>"
     },
     "metadata": {}
    },
    {
     "data": {
      "text/plain": "<Figure size 432x288 with 2 Axes>",
      "image/png": "[encoded data removed]"
     },
     "metadata": {
      "needs_background": "light",
      "image/png": {
       "width": 221,
       "height": 346
      }
     },
     "output_type": "display_data"
    }
   ]
  },
  {
   "cell_type": "code",
   "metadata": {
    "cell_id": "00017-3ec05330-7df9-4d72-8640-2bb61e3ee51a",
    "deepnote_to_be_reexecuted": false,
    "source_hash": "b8b35f96",
    "execution_start": 1647959728274,
    "execution_millis": 1047,
    "deepnote_cell_type": "code",
    "deepnote_cell_height": 504.25,
    "deepnote_output_heights": [
     354
    ]
   },
   "source": "sns.catplot(x=\"Card_Category\", hue=\"Gender\", col=\"Attrition_Flag\",\n                data=df, kind=\"count\",\n                height=5, aspect=.7);\n",
   "execution_count": 14,
   "outputs": [
    {
     "data": {
      "text/plain": "<Figure size 548.875x360 with 2 Axes>",
      "image/png": "[encoded data removed]"
     },
     "metadata": {
      "needs_background": "light",
      "image/png": {
       "width": 542,
       "height": 352
      }
     },
     "output_type": "display_data"
    }
   ]
  },
  {
   "cell_type": "markdown",
   "source": "La mayoría de las personas que dejan de ser clientes usaban tarjeta \"Blue\"",
   "metadata": {
    "cell_id": "00018-31cc0f6a-9551-4773-978b-74572ec18150",
    "deepnote_cell_type": "markdown",
    "deepnote_cell_height": 51.899993896484375
   }
  },
  {
   "cell_type": "markdown",
   "source": "Estudiaremos la distribución a partir de la categoría de ingresos",
   "metadata": {
    "cell_id": "00019-d35a39b1-d0ae-4b69-9615-d0e807056a0c",
    "deepnote_cell_type": "markdown",
    "deepnote_cell_height": 51.899993896484375
   }
  },
  {
   "cell_type": "code",
   "metadata": {
    "cell_id": "00020-512d09d4-a0bf-4fda-98ed-7add0ea5e21e",
    "deepnote_to_be_reexecuted": false,
    "source_hash": "aa2559e5",
    "execution_start": 1647959729148,
    "execution_millis": 174,
    "deepnote_cell_type": "code",
    "deepnote_cell_height": 469
   },
   "source": "income = pd.crosstab(df['Income_Category'],df['Attrition_Flag'])\nincome\n",
   "execution_count": 15,
   "outputs": [
    {
     "output_type": "execute_result",
     "execution_count": 15,
     "data": {
      "application/vnd.deepnote.dataframe.v3+json": {
       "column_count": 2,
       "row_count": 6,
       "columns": [
        {
         "name": "Attrited Customer",
         "dtype": "int64",
         "stats": {
          "unique_count": 6,
          "nan_count": 0,
          "min": "126",
          "max": "612",
          "histogram": [
           {
            "bin_start": 126,
            "bin_end": 174.6,
            "count": 1
           },
           {
            "bin_start": 174.6,
            "bin_end": 223.2,
            "count": 2
           },
           {
            "bin_start": 223.2,
            "bin_end": 271.8,
            "count": 2
           },
           {
            "bin_start": 271.8,
            "bin_end": 320.4,
            "count": 0
           },
           {
            "bin_start": 320.4,
            "bin_end": 369,
            "count": 0
           },
           {
            "bin_start": 369,
            "bin_end": 417.6,
            "count": 0
           },
           {
            "bin_start": 417.6,
            "bin_end": 466.2,
            "count": 0
           },
           {
            "bin_start": 466.2,
            "bin_end": 514.8,
            "count": 0
           },
           {
            "bin_start": 514.8,
            "bin_end": 563.4000000000001,
            "count": 0
           },
           {
            "bin_start": 563.4000000000001,
            "bin_end": 612,
            "count": 1
           }
          ]
         }
        },
        {
         "name": "Existing Customer",
         "dtype": "int64",
         "stats": {
          "unique_count": 6,
          "nan_count": 0,
          "min": "601",
          "max": "2949",
          "histogram": [
           {
            "bin_start": 601,
            "bin_end": 835.8,
            "count": 1
           },
           {
            "bin_start": 835.8,
            "bin_end": 1070.6,
            "count": 1
           },
           {
            "bin_start": 1070.6,
            "bin_end": 1305.4,
            "count": 2
           },
           {
            "bin_start": 1305.4,
            "bin_end": 1540.2,
            "count": 1
           },
           {
            "bin_start": 1540.2,
            "bin_end": 1775,
            "count": 0
           },
           {
            "bin_start": 1775,
            "bin_end": 2009.8000000000002,
            "count": 0
           },
           {
            "bin_start": 2009.8000000000002,
            "bin_end": 2244.6000000000004,
            "count": 0
           },
           {
            "bin_start": 2244.6000000000004,
            "bin_end": 2479.4,
            "count": 0
           },
           {
            "bin_start": 2479.4,
            "bin_end": 2714.2000000000003,
            "count": 0
           },
           {
            "bin_start": 2714.2000000000003,
            "bin_end": 2949,
            "count": 1
           }
          ]
         }
        },
        {
         "name": "_deepnote_index_column",
         "dtype": "object"
        }
       ],
       "rows": [
        {
         "Attrited Customer": 126,
         "Existing Customer": 601,
         "_deepnote_index_column": "$120K +"
        },
        {
         "Attrited Customer": 271,
         "Existing Customer": 1519,
         "_deepnote_index_column": "$40K - $60K"
        },
        {
         "Attrited Customer": 189,
         "Existing Customer": 1213,
         "_deepnote_index_column": "$60K - $80K"
        },
        {
         "Attrited Customer": 242,
         "Existing Customer": 1293,
         "_deepnote_index_column": "$80K - $120K"
        },
        {
         "Attrited Customer": 612,
         "Existing Customer": 2949,
         "_deepnote_index_column": "Less than $40K"
        },
        {
         "Attrited Customer": 187,
         "Existing Customer": 925,
         "_deepnote_index_column": "Unknown"
        }
       ]
      },
      "text/plain": "Attrition_Flag   Attrited Customer  Existing Customer\nIncome_Category                                      \n$120K +                        126                601\n$40K - $60K                    271               1519\n$60K - $80K                    189               1213\n$80K - $120K                   242               1293\nLess than $40K                 612               2949\nUnknown                        187                925",
      "text/html": "<div>\n<style scoped>\n    .dataframe tbody tr th:only-of-type {\n        vertical-align: middle;\n    }\n\n    .dataframe tbody tr th {\n        vertical-align: top;\n    }\n\n    .dataframe thead th {\n        text-align: right;\n    }\n</style>\n<table border=\"1\" class=\"dataframe\">\n  <thead>\n    <tr style=\"text-align: right;\">\n      <th>Attrition_Flag</th>\n      <th>Attrited Customer</th>\n      <th>Existing Customer</th>\n    </tr>\n    <tr>\n      <th>Income_Category</th>\n      <th></th>\n      <th></th>\n    </tr>\n  </thead>\n  <tbody>\n    <tr>\n      <th>$120K +</th>\n      <td>126</td>\n      <td>601</td>\n    </tr>\n    <tr>\n      <th>$40K - $60K</th>\n      <td>271</td>\n      <td>1519</td>\n    </tr>\n    <tr>\n      <th>$60K - $80K</th>\n      <td>189</td>\n      <td>1213</td>\n    </tr>\n    <tr>\n      <th>$80K - $120K</th>\n      <td>242</td>\n      <td>1293</td>\n    </tr>\n    <tr>\n      <th>Less than $40K</th>\n      <td>612</td>\n      <td>2949</td>\n    </tr>\n    <tr>\n      <th>Unknown</th>\n      <td>187</td>\n      <td>925</td>\n    </tr>\n  </tbody>\n</table>\n</div>"
     },
     "metadata": {}
    }
   ]
  },
  {
   "cell_type": "code",
   "metadata": {
    "cell_id": "00021-8c407ab4-1a16-4ac8-bb59-5a86f1f6ce7e",
    "deepnote_to_be_reexecuted": false,
    "source_hash": "fed6ce96",
    "execution_start": 1647959729157,
    "execution_millis": 532,
    "deepnote_cell_type": "code",
    "deepnote_cell_height": 604,
    "deepnote_output_heights": [
     21,
     348
    ]
   },
   "source": "sns.heatmap(income, cmap='RdBu', vmin=0, vmax=10127,\n    square=True, annot=True, fmt='.0f', linewidth = 1, linecolor = 'white',\n    annot_kws = {\n        'fontsize': 12,\n        'fontweight': 'normal',\n        'fontfamily': 'sans-serif'\n    })",
   "execution_count": 16,
   "outputs": [
    {
     "output_type": "execute_result",
     "execution_count": 16,
     "data": {
      "text/plain": "<AxesSubplot:xlabel='Attrition_Flag', ylabel='Income_Category'>"
     },
     "metadata": {}
    },
    {
     "data": {
      "text/plain": "<Figure size 432x288 with 2 Axes>",
      "image/png": "[encoded data removed]"
     },
     "metadata": {
      "needs_background": "light",
      "image/png": {
       "width": 251,
       "height": 346
      }
     },
     "output_type": "display_data"
    }
   ]
  },
  {
   "cell_type": "code",
   "metadata": {
    "cell_id": "00022-a40f3482-f5c2-4050-a53b-544bc12128f1",
    "deepnote_to_be_reexecuted": false,
    "source_hash": "26ed09ca",
    "execution_start": 1647959729742,
    "execution_millis": 643,
    "deepnote_cell_type": "code",
    "deepnote_cell_height": 415,
    "deepnote_output_heights": [
     21,
     267
    ]
   },
   "source": "income['Attrited Customer'].plot()",
   "execution_count": 17,
   "outputs": [
    {
     "output_type": "execute_result",
     "execution_count": 17,
     "data": {
      "text/plain": "<AxesSubplot:xlabel='Income_Category'>"
     },
     "metadata": {}
    },
    {
     "data": {
      "text/plain": "<Figure size 432x288 with 1 Axes>",
      "image/png": "[encoded data removed]"
     },
     "metadata": {
      "needs_background": "light",
      "image/png": {
       "width": 383,
       "height": 265
      }
     },
     "output_type": "display_data"
    }
   ]
  },
  {
   "cell_type": "code",
   "metadata": {
    "cell_id": "00023-a7b4813f-fa74-4db9-98f3-181288b275ea",
    "deepnote_to_be_reexecuted": false,
    "source_hash": "37c9ea46",
    "execution_start": 1647959730396,
    "execution_millis": 14,
    "deepnote_cell_type": "code",
    "deepnote_cell_height": 80.5
   },
   "source": "education_level = pd.crosstab(df['Education_Level'], df['Attrition_Flag'])",
   "execution_count": 18,
   "outputs": []
  },
  {
   "cell_type": "code",
   "metadata": {
    "cell_id": "00024-18d19df8-62c9-4f71-99a2-ca2535310064",
    "deepnote_to_be_reexecuted": false,
    "source_hash": "69657df",
    "execution_start": 1647959730431,
    "execution_millis": 406,
    "deepnote_cell_type": "code",
    "deepnote_cell_height": 604,
    "deepnote_output_heights": [
     21,
     348
    ]
   },
   "source": "sns.heatmap(education_level, cmap='RdBu', vmin=0, vmax=10127,\n    square=True, annot=True, fmt='.0f', linewidth = 1, linecolor = 'white',\n    annot_kws = {\n        'fontsize': 12,\n        'fontweight': 'normal',\n        'fontfamily': 'sans-serif'\n    })",
   "execution_count": 19,
   "outputs": [
    {
     "output_type": "execute_result",
     "execution_count": 19,
     "data": {
      "text/plain": "<AxesSubplot:xlabel='Attrition_Flag', ylabel='Education_Level'>"
     },
     "metadata": {}
    },
    {
     "data": {
      "text/plain": "<Figure size 432x288 with 2 Axes>",
      "image/png": "[encoded data removed]"
     },
     "metadata": {
      "needs_background": "light",
      "image/png": {
       "width": 236,
       "height": 346
      }
     },
     "output_type": "display_data"
    }
   ]
  },
  {
   "cell_type": "code",
   "metadata": {
    "cell_id": "00025-e6e7e9da-6a5b-42fa-a885-05a0e148d499",
    "deepnote_to_be_reexecuted": false,
    "source_hash": "67c2089c",
    "execution_start": 1647959730853,
    "execution_millis": 69,
    "deepnote_cell_type": "code",
    "deepnote_cell_height": 252.25,
    "deepnote_output_heights": [
     156
    ]
   },
   "source": "df['Education_Level'].value_counts(normalize=True).mul(100).round(1).astype(str) + '%'",
   "execution_count": 20,
   "outputs": [
    {
     "output_type": "execute_result",
     "execution_count": 20,
     "data": {
      "text/plain": "Graduate         30.9%\nHigh School      19.9%\nUnknown          15.0%\nUneducated       14.7%\nCollege          10.0%\nPost-Graduate     5.1%\nDoctorate         4.5%\nName: Education_Level, dtype: object"
     },
     "metadata": {}
    }
   ]
  },
  {
   "cell_type": "markdown",
   "source": "<a style='text-decoration:none;line-height:16px;display:flex;color:#5B5B62;padding:10px;justify-content:end;' href='https://deepnote.com?utm_source=created-in-deepnote-cell&projectId=2bd31ba2-a63a-401e-9d82-bcf3c4504ed2' target=\"_blank\">\n<img alt='Created in deepnote.com' style='display:inline;max-height:16px;margin:0px;margin-right:7.5px;' src='data:image/svg+xml;base64,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' > </img>\nCreated in <span style='font-weight:600;margin-left:4px;'>Deepnote</span></a>",
   "metadata": {
    "tags": [],
    "created_in_deepnote_cell": true,
    "deepnote_cell_type": "markdown"
   }
  }
 ],
 "nbformat": 4,
 "nbformat_minor": 2,
 "metadata": {
  "interpreter": {
   "hash": "86cc94ec6182e521cfb6a76ad283dbeab7f7eeedec4ea15e57fd99ae1fbd5505"
  },
  "kernelspec": {
   "display_name": "Python 3.9.7 64-bit ('base': conda)",
   "language": "python",
   "name": "python3"
  },
  "language_info": {
   "codemirror_mode": {
    "name": "ipython",
    "version": 3
   },
   "file_extension": ".py",
   "mimetype": "text/x-python",
   "name": "python",
   "nbconvert_exporter": "python",
   "pygments_lexer": "ipython3",
   "version": "3.9.7"
  },
  "orig_nbformat": 4,
  "deepnote_notebook_id": "f864ad08-0198-4a01-a3c9-cc64652103cc",
  "deepnote": {},
  "deepnote_execution_queue": []
 }
}